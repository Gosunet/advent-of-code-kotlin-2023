{
 "cells": [
  {
   "cell_type": "code",
   "execution_count": 101,
   "metadata": {
    "collapsed": true,
    "ExecuteTime": {
     "end_time": "2023-12-09T10:58:58.634037Z",
     "start_time": "2023-12-09T10:58:58.468325Z"
    }
   },
   "outputs": [],
   "source": [
    "@file:DependsOn(\"org.jetbrains.kotlinx:kotlinx-coroutines-core-jvm:1.4.3\")\n",
    "\n",
    "import kotlin.io.path.Path\n",
    "import kotlin.io.path.readLines\n",
    "\n",
    "val input = Path(\"src/day09.txt\").readLines().map { it.split(\", \", \" \").map { it.toLong() } }"
   ]
  },
  {
   "cell_type": "code",
   "execution_count": 102,
   "outputs": [],
   "source": [
    "val sequences  = input.map { measures ->\n",
    "  val newSequence = mutableListOf<List<Long>>()\n",
    "  newSequence.add(measures)\n",
    "  while (!newSequence.last().all { it == 0L }) { \n",
    "    newSequence.add(newSequence.last().zipWithNext { a, b -> b - a }.filterNotNull())\n",
    "  }\n",
    "  newSequence\n",
    " }"
   ],
   "metadata": {
    "collapsed": false,
    "ExecuteTime": {
     "end_time": "2023-12-09T10:58:58.698035Z",
     "start_time": "2023-12-09T10:58:58.632850Z"
    }
   }
  },
  {
   "cell_type": "code",
   "execution_count": 103,
   "outputs": [],
   "source": [
    "val completedSequences = sequences.map { sequence ->\n",
    "  val newSequence = mutableListOf<List<Long>>()\n",
    "  sequence.reversed().withIndex().forEach { (index, value) ->\n",
    "    if (index == 0) newSequence.add(value + 0)\n",
    "    else if (index == 1) {\n",
    "      newSequence.add(value + value.last())\n",
    "    }\n",
    "    else {\n",
    "      val lastValueRowBefore = newSequence[index - 1].last()\n",
    "      newSequence.add(value + (lastValueRowBefore + value.last()))\n",
    "    }\n",
    "  }\n",
    "  newSequence\n",
    "}"
   ],
   "metadata": {
    "collapsed": false,
    "ExecuteTime": {
     "end_time": "2023-12-09T10:58:58.752544Z",
     "start_time": "2023-12-09T10:58:58.696187Z"
    }
   }
  },
  {
   "cell_type": "code",
   "execution_count": 104,
   "outputs": [
    {
     "data": {
      "text/plain": "2043183816"
     },
     "execution_count": 104,
     "metadata": {},
     "output_type": "execute_result"
    }
   ],
   "source": [
    "completedSequences.sumOf { it.last().last() }"
   ],
   "metadata": {
    "collapsed": false,
    "ExecuteTime": {
     "end_time": "2023-12-09T10:58:58.787703Z",
     "start_time": "2023-12-09T10:58:58.752101Z"
    }
   }
  },
  {
   "cell_type": "code",
   "execution_count": 105,
   "outputs": [],
   "source": [
    "val completedSequencesStart = sequences.map { sequence ->\n",
    "  val newSequence = mutableListOf<List<Long>>()\n",
    "  sequence.reversed().withIndex().forEach { (index, value) ->\n",
    "    if (index == 0) newSequence.add(listOf(0L) + value)\n",
    "    else if (index == 1) {\n",
    "      newSequence.add(listOf(value.first()) + value)\n",
    "    }\n",
    "    else {\n",
    "      val firstValueRowBefore = newSequence[index - 1].first()\n",
    "      newSequence.add(listOf((value.first() - firstValueRowBefore)) + value)\n",
    "    }\n",
    "  }\n",
    "  newSequence\n",
    "}"
   ],
   "metadata": {
    "collapsed": false,
    "ExecuteTime": {
     "end_time": "2023-12-09T10:58:58.849297Z",
     "start_time": "2023-12-09T10:58:58.786980Z"
    }
   }
  },
  {
   "cell_type": "code",
   "execution_count": 106,
   "outputs": [
    {
     "data": {
      "text/plain": "1118"
     },
     "execution_count": 106,
     "metadata": {},
     "output_type": "execute_result"
    }
   ],
   "source": [
    "completedSequencesStart.sumOf { it.last().first() }"
   ],
   "metadata": {
    "collapsed": false,
    "ExecuteTime": {
     "end_time": "2023-12-09T10:58:58.881957Z",
     "start_time": "2023-12-09T10:58:58.848793Z"
    }
   }
  },
  {
   "cell_type": "code",
   "execution_count": 107,
   "outputs": [],
   "source": [],
   "metadata": {
    "collapsed": false,
    "ExecuteTime": {
     "end_time": "2023-12-09T10:58:58.883511Z",
     "start_time": "2023-12-09T10:58:58.878095Z"
    }
   }
  }
 ],
 "metadata": {
  "kernelspec": {
   "display_name": "Kotlin",
   "language": "kotlin",
   "name": "kotlin"
  },
  "language_info": {
   "name": "kotlin",
   "version": "1.9.0",
   "mimetype": "text/x-kotlin",
   "file_extension": ".kt",
   "pygments_lexer": "kotlin",
   "codemirror_mode": "text/x-kotlin",
   "nbconvert_exporter": ""
  }
 },
 "nbformat": 4,
 "nbformat_minor": 0
}
