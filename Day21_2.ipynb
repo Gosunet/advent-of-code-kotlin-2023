{
 "cells": [
  {
   "cell_type": "code",
   "execution_count": 1,
   "outputs": [],
   "source": [
    "@file:DependsOn(\"org.jetbrains.kotlinx:kotlinx-coroutines-core-jvm:1.4.3\")\n",
    "\n",
    "import kotlin.io.path.Path\n",
    "import kotlin.io.path.readLines\n",
    "import kotlin.io.path.readText\n",
    "import kotlinx.coroutines.*\n",
    "\n",
    "val input = Path(\"src/day_21_test.txt\").readLines().map { it.map { it.toChar() } }"
   ],
   "metadata": {
    "collapsed": false,
    "ExecuteTime": {
     "end_time": "2023-12-22T10:00:52.168230Z",
     "start_time": "2023-12-22T10:00:51.197577Z"
    }
   }
  },
  {
   "cell_type": "code",
   "execution_count": 5,
   "outputs": [],
   "source": [
    "import org.jgrapht.Graph\n",
    "import org.jgrapht.Graphs\n",
    "import org.jgrapht.graph.DefaultEdge\n",
    "import org.jgrapht.graph.SimpleGraph\n",
    "\n",
    "fun explorePositions(grid: List<List<Char>>, start: Pair<Int, Int>, movements: Int): Set<Pair<Int, Int>> {\n",
    "    val graph: Graph<Pair<Int, Int>, DefaultEdge> = SimpleGraph(DefaultEdge::class.java)\n",
    "\n",
    "    val rows = grid.size\n",
    "    val cols = grid[0].size\n",
    "\n",
    "    for (i in 0 until rows) {\n",
    "        for (j in 0 until cols) {\n",
    "            if (grid[i][j] != '#') {\n",
    "                val vertex = Pair(i, j)\n",
    "                graph.addVertex(vertex)\n",
    "\n",
    "                if (i > 0 && grid[i - 1][j] != '#') {\n",
    "                    val left = Pair(i - 1, j)\n",
    "                    graph.addEdge(vertex, left)\n",
    "                }\n",
    "                if (j > 0 && grid[i][j - 1] != '#') {\n",
    "                    val top = Pair(i, j - 1)\n",
    "                    graph.addEdge(vertex, top)\n",
    "                }\n",
    "            }\n",
    "        }\n",
    "    }\n",
    "\n",
    "    val result = mutableSetOf<Pair<Int, Int>>()\n",
    "    val visited = mutableSetOf<Pair<Int, Int>>()\n",
    "    val queue: ArrayDeque<Pair<Pair<Int, Int>, Int>> = LinkedList()\n",
    "\n",
    "    queue.offer(Pair(start, 0))\n",
    "    visited.add(start)\n",
    "\n",
    "    while (queue.isNotEmpty()) {\n",
    "        val (pos, steps) = queue.poll()\n",
    "\n",
    "        if (steps == movements) {\n",
    "            result.add(pos)\n",
    "            continue\n",
    "        }\n",
    "\n",
    "        val neighbors = Graphs.neighborSetOf(graph, pos)\n",
    "        for (neighbor in neighbors) {\n",
    "            if (neighbor !in visited) {\n",
    "                queue.offer(Pair(neighbor, steps + 1))\n",
    "                visited.add(neighbor)\n",
    "            }\n",
    "        }\n",
    "    }\n",
    "\n",
    "    return result\n",
    "}\n"
   ],
   "metadata": {
    "collapsed": false,
    "ExecuteTime": {
     "end_time": "2023-12-22T10:03:29.605594Z",
     "start_time": "2023-12-22T10:03:29.260035Z"
    }
   }
  },
  {
   "cell_type": "code",
   "execution_count": 6,
   "outputs": [],
   "source": [
    "val sPosition = input.first { it.contains('S') }.indexOf('S') to input.indexOfFirst { it.contains('S') }"
   ],
   "metadata": {
    "collapsed": false,
    "ExecuteTime": {
     "end_time": "2023-12-22T10:03:30.658708Z",
     "start_time": "2023-12-22T10:03:30.575773Z"
    }
   }
  },
  {
   "cell_type": "code",
   "execution_count": 7,
   "outputs": [
    {
     "data": {
      "text/plain": "(5, 5)"
     },
     "execution_count": 7,
     "metadata": {},
     "output_type": "execute_result"
    }
   ],
   "source": [
    "sPosition"
   ],
   "metadata": {
    "collapsed": false,
    "ExecuteTime": {
     "end_time": "2023-12-22T10:03:31.758857Z",
     "start_time": "2023-12-22T10:03:31.621800Z"
    }
   }
  },
  {
   "cell_type": "code",
   "execution_count": 13,
   "outputs": [],
   "source": [
    "import kotlinx.coroutines.runBlocking\n",
    "\n",
    "val result = explorePositions(input, sPosition, 6)"
   ],
   "metadata": {
    "collapsed": false,
    "ExecuteTime": {
     "end_time": "2023-12-22T10:03:45.094902Z",
     "start_time": "2023-12-22T10:03:45.000619Z"
    }
   }
  },
  {
   "cell_type": "code",
   "execution_count": 12,
   "outputs": [
    {
     "data": {
      "text/plain": "0"
     },
     "execution_count": 12,
     "metadata": {},
     "output_type": "execute_result"
    }
   ],
   "source": [
    "result.count()"
   ],
   "metadata": {
    "collapsed": false,
    "ExecuteTime": {
     "end_time": "2023-12-22T10:03:40.503315Z",
     "start_time": "2023-12-22T10:03:40.365493Z"
    }
   }
  },
  {
   "cell_type": "code",
   "execution_count": 92,
   "outputs": [
    {
     "data": {
      "text/plain": "[(7, 5), (7, 3), (6, 4), (7, 1), (9, 3), (4, 0), (3, 1), (4, 2), (3, 3), (6, 6), (5, 3), (4, 8), (2, 8)]"
     },
     "execution_count": 92,
     "metadata": {},
     "output_type": "execute_result"
    }
   ],
   "source": [
    "result"
   ],
   "metadata": {
    "collapsed": false,
    "ExecuteTime": {
     "end_time": "2023-12-21T17:09:00.494588Z",
     "start_time": "2023-12-21T17:09:00.442521Z"
    }
   }
  },
  {
   "cell_type": "markdown",
   "source": [
    "[(5, 5), (5, 3), (6, 4), (3, 5), (7, 3), (4, 2), (3, 3), (7, 5), (3, 7), (7, 1), (9, 3), (4, 0), (3, 1), (6, 6), (4, 8), (2, 8)]"
   ],
   "metadata": {
    "collapsed": false
   }
  },
  {
   "cell_type": "code",
   "execution_count": 29,
   "outputs": [],
   "source": [],
   "metadata": {
    "collapsed": false,
    "ExecuteTime": {
     "end_time": "2023-12-21T16:16:08.003373Z",
     "start_time": "2023-12-21T16:16:07.988423Z"
    }
   }
  }
 ],
 "metadata": {
  "kernelspec": {
   "display_name": "Kotlin",
   "language": "kotlin",
   "name": "kotlin"
  },
  "language_info": {
   "name": "kotlin",
   "version": "1.9.0",
   "mimetype": "text/x-kotlin",
   "file_extension": ".kt",
   "pygments_lexer": "kotlin",
   "codemirror_mode": "text/x-kotlin",
   "nbconvert_exporter": ""
  }
 },
 "nbformat": 4,
 "nbformat_minor": 0
}
