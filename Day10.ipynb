{
 "cells": [
  {
   "cell_type": "code",
   "execution_count": 64,
   "metadata": {
    "collapsed": true,
    "ExecuteTime": {
     "end_time": "2023-12-10T20:06:30.702525Z",
     "start_time": "2023-12-10T20:06:30.519496Z"
    }
   },
   "outputs": [],
   "source": [
    "@file:DependsOn(\"org.jetbrains.kotlinx:kotlinx-coroutines-core-jvm:1.4.3\")\n",
    "\n",
    "import kotlin.io.path.Path\n",
    "import kotlin.io.path.readLines\n",
    "\n",
    "val input = Path(\"src/day10.txt\").readLines().map {\n",
    "  it.split(\"\").filter { it.isNotBlank() }\n",
    "}"
   ]
  },
  {
   "cell_type": "code",
   "execution_count": 65,
   "outputs": [],
   "source": [
    "fun findIndexOfS(matrix: List<List<String>>): Pair<Int, Int>? {\n",
    "  for ((rowIndex, row) in matrix.withIndex()) {\n",
    "    val columnIndex = row.indexOf(\"S\")\n",
    "    if (columnIndex != -1) {\n",
    "      return Pair(rowIndex, columnIndex)\n",
    "    }\n",
    "  }\n",
    "  return null\n",
    "}"
   ],
   "metadata": {
    "collapsed": false,
    "ExecuteTime": {
     "end_time": "2023-12-10T20:06:30.731821Z",
     "start_time": "2023-12-10T20:06:30.701294Z"
    }
   }
  },
  {
   "cell_type": "code",
   "execution_count": 66,
   "outputs": [],
   "source": [
    "val startingPoint = findIndexOfS(input)"
   ],
   "metadata": {
    "collapsed": false,
    "ExecuteTime": {
     "end_time": "2023-12-10T20:06:30.784275Z",
     "start_time": "2023-12-10T20:06:30.730067Z"
    }
   }
  },
  {
   "cell_type": "code",
   "execution_count": 67,
   "outputs": [],
   "source": [
    "val xMaxIndex = input.first().size - 1"
   ],
   "metadata": {
    "collapsed": false,
    "ExecuteTime": {
     "end_time": "2023-12-10T20:06:30.806727Z",
     "start_time": "2023-12-10T20:06:30.783786Z"
    }
   }
  },
  {
   "cell_type": "code",
   "execution_count": 68,
   "outputs": [],
   "source": [
    "val yMaxIndex = input.size - 1"
   ],
   "metadata": {
    "collapsed": false,
    "ExecuteTime": {
     "end_time": "2023-12-10T20:06:30.824224Z",
     "start_time": "2023-12-10T20:06:30.805107Z"
    }
   }
  },
  {
   "cell_type": "code",
   "execution_count": 69,
   "outputs": [],
   "source": [
    "enum class NESW {\n",
    "  NORTH, EAST, SOUTH, WEST\n",
    "}\n",
    "\n",
    "fun Pair<Int, Int>.toNESW(): List<NESW> =\n",
    "  when (input[first][second]) {\n",
    "    \"|\" -> listOf(NESW.NORTH, NESW.SOUTH)\n",
    "    \"-\" -> listOf(NESW.EAST, NESW.WEST)\n",
    "    \"L\" -> listOf(NESW.NORTH, NESW.EAST)\n",
    "    \"J\" -> listOf(NESW.NORTH, NESW.WEST)\n",
    "    \"7\" -> listOf(NESW.SOUTH, NESW.WEST)\n",
    "    \"F\" -> listOf(NESW.SOUTH, NESW.EAST)\n",
    "    \"S\" -> listOf(NESW.NORTH, NESW.SOUTH, NESW.EAST, NESW.WEST)\n",
    "    \".\" -> listOf()\n",
    "    else -> error(\"brruh\")\n",
    "  }"
   ],
   "metadata": {
    "collapsed": false,
    "ExecuteTime": {
     "end_time": "2023-12-10T20:06:30.895125Z",
     "start_time": "2023-12-10T20:06:30.823907Z"
    }
   }
  },
  {
   "cell_type": "code",
   "execution_count": 70,
   "outputs": [],
   "source": [
    "operator fun Pair<Int, Int>.plus(other: Pair<Int, Int>): Pair<Int, Int> =\n",
    "  first + other.first to second + other.second"
   ],
   "metadata": {
    "collapsed": false,
    "ExecuteTime": {
     "end_time": "2023-12-10T20:06:30.916250Z",
     "start_time": "2023-12-10T20:06:30.894620Z"
    }
   }
  },
  {
   "cell_type": "code",
   "execution_count": 71,
   "outputs": [],
   "source": [
    "fun NESW.toPos(): Pair<Int, Int> = when (this) {\n",
    "  NESW.NORTH -> -1 to 0\n",
    "  NESW.EAST -> 0 to 1\n",
    "  NESW.SOUTH -> 1 to 0\n",
    "  NESW.WEST -> 0 to -1\n",
    "}"
   ],
   "metadata": {
    "collapsed": false,
    "ExecuteTime": {
     "end_time": "2023-12-10T20:06:30.974673Z",
     "start_time": "2023-12-10T20:06:30.916062Z"
    }
   }
  },
  {
   "cell_type": "code",
   "execution_count": 72,
   "outputs": [],
   "source": [
    "fun NESW.opposite(): NESW = when (this) {\n",
    "  NESW.NORTH -> NESW.SOUTH\n",
    "  NESW.EAST -> NESW.WEST\n",
    "  NESW.SOUTH -> NESW.NORTH\n",
    "  NESW.WEST -> NESW.EAST\n",
    "}"
   ],
   "metadata": {
    "collapsed": false,
    "ExecuteTime": {
     "end_time": "2023-12-10T20:06:31.004295Z",
     "start_time": "2023-12-10T20:06:30.973833Z"
    }
   }
  },
  {
   "cell_type": "code",
   "execution_count": 73,
   "outputs": [],
   "source": [
    "fun Pair<Int, Int>.next(nextDirection: NESW): Pair<Pair<Int, Int>, NESW>? {\n",
    "  val nextPosition = this + nextDirection.toPos()\n",
    "  val newDirection = nextPosition.toNESW()\n",
    "  if (nextDirection.opposite() !in newDirection) return null\n",
    "  return nextPosition to newDirection.minus(nextDirection.opposite()).first()\n",
    "}"
   ],
   "metadata": {
    "collapsed": false,
    "ExecuteTime": {
     "end_time": "2023-12-10T20:06:31.047362Z",
     "start_time": "2023-12-10T20:06:31.003081Z"
    }
   }
  },
  {
   "cell_type": "code",
   "execution_count": 74,
   "outputs": [],
   "source": [
    "var coordinates: List<Pair<Int, Int>>\n",
    "val tmpLoop = mutableListOf<Pair<Int, Int>>()\n",
    "for (startDir in NESW.values()) {\n",
    "  tmpLoop.clear()\n",
    "  tmpLoop.add(startingPoint)\n",
    "  val start = startingPoint.next(startDir) ?: continue\n",
    "  var curPos = start.first\n",
    "  var curDir = start.second\n",
    "  while (input[curPos.first][curPos.second] != \"S\") {\n",
    "    tmpLoop.add(curPos)\n",
    "    val (nextPos, nextDir) = curPos.next(curDir) ?: break\n",
    "    curPos = nextPos\n",
    "    curDir = nextDir\n",
    "  }\n",
    "  if (input[curPos.first][curPos.second] == \"S\") break\n",
    "}\n",
    "coordinates = tmpLoop"
   ],
   "metadata": {
    "collapsed": false,
    "ExecuteTime": {
     "end_time": "2023-12-10T20:06:31.087183Z",
     "start_time": "2023-12-10T20:06:31.033768Z"
    }
   }
  },
  {
   "cell_type": "code",
   "execution_count": 75,
   "outputs": [
    {
     "data": {
      "text/plain": "6757"
     },
     "execution_count": 75,
     "metadata": {},
     "output_type": "execute_result"
    }
   ],
   "source": [
    "(coordinates.size / 2).toString()"
   ],
   "metadata": {
    "collapsed": false,
    "ExecuteTime": {
     "end_time": "2023-12-10T20:06:31.104676Z",
     "start_time": "2023-12-10T20:06:31.086746Z"
    }
   }
  },
  {
   "cell_type": "code",
   "execution_count": 76,
   "outputs": [],
   "source": [
    "import java.awt.Polygon\n",
    "\n",
    "val polygon = Polygon().apply {\n",
    "  coordinates.forEach {\n",
    "    addPoint(it.first, it.second)\n",
    "  }\n",
    "}"
   ],
   "metadata": {
    "collapsed": false,
    "ExecuteTime": {
     "end_time": "2023-12-10T20:06:31.134482Z",
     "start_time": "2023-12-10T20:06:31.104178Z"
    }
   }
  },
  {
   "cell_type": "code",
   "execution_count": 77,
   "outputs": [],
   "source": [
    "var insideCount = 0\n",
    "(0..xMaxIndex).forEach { xCoordinate ->\n",
    "  (0..yMaxIndex).forEach { yCoordinate ->\n",
    "    if (yCoordinate to xCoordinate in coordinates) {\n",
    "    } else {\n",
    "      if (polygon.contains(yCoordinate, xCoordinate)) {\n",
    "        insideCount += 1\n",
    "      }\n",
    "    }\n",
    "  }\n",
    "}\n"
   ],
   "metadata": {
    "collapsed": false,
    "ExecuteTime": {
     "end_time": "2023-12-10T20:06:32.050740Z",
     "start_time": "2023-12-10T20:06:31.132564Z"
    }
   }
  },
  {
   "cell_type": "code",
   "execution_count": 78,
   "outputs": [
    {
     "data": {
      "text/plain": "523"
     },
     "execution_count": 78,
     "metadata": {},
     "output_type": "execute_result"
    }
   ],
   "source": [
    "insideCount"
   ],
   "metadata": {
    "collapsed": false,
    "ExecuteTime": {
     "end_time": "2023-12-10T20:06:32.057365Z",
     "start_time": "2023-12-10T20:06:32.036993Z"
    }
   }
  },
  {
   "cell_type": "code",
   "execution_count": 79,
   "outputs": [],
   "source": [],
   "metadata": {
    "collapsed": false,
    "ExecuteTime": {
     "end_time": "2023-12-10T20:06:32.058692Z",
     "start_time": "2023-12-10T20:06:32.055062Z"
    }
   }
  }
 ],
 "metadata": {
  "kernelspec": {
   "display_name": "Kotlin",
   "language": "kotlin",
   "name": "kotlin"
  },
  "language_info": {
   "name": "kotlin",
   "version": "1.9.0",
   "mimetype": "text/x-kotlin",
   "file_extension": ".kt",
   "pygments_lexer": "kotlin",
   "codemirror_mode": "text/x-kotlin",
   "nbconvert_exporter": ""
  }
 },
 "nbformat": 4,
 "nbformat_minor": 0
}
