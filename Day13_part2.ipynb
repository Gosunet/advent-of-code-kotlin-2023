{
 "cells": [
  {
   "cell_type": "code",
   "execution_count": 107,
   "outputs": [],
   "source": [
    "@file:DependsOn(\"org.jetbrains.kotlinx:kotlinx-coroutines-core-jvm:1.4.3\")\n",
    "\n",
    "import kotlin.io.path.Path\n",
    "import kotlin.io.path.readLines\n",
    "import kotlin.io.path.readText\n",
    "\n",
    "val input = Path(\"src/day_13_test.txt\").readText().split(\"\\n\\n\").map { it.split(\"\\n\") }"
   ],
   "metadata": {
    "collapsed": false,
    "ExecuteTime": {
     "end_time": "2023-12-21T12:34:40.792846Z",
     "start_time": "2023-12-21T12:34:40.555277Z"
    }
   }
  },
  {
   "cell_type": "code",
   "execution_count": 108,
   "outputs": [
    {
     "data": {
      "text/plain": "[[.#.##.#.#, .##..##.., .#.##.#.., #......##, #......##, .#.##.#.., .##..##.#]]"
     },
     "execution_count": 108,
     "metadata": {},
     "output_type": "execute_result"
    }
   ],
   "source": [
    "input"
   ],
   "metadata": {
    "collapsed": false,
    "ExecuteTime": {
     "end_time": "2023-12-21T12:34:40.810416Z",
     "start_time": "2023-12-21T12:34:40.789698Z"
    }
   }
  },
  {
   "cell_type": "code",
   "execution_count": 109,
   "outputs": [],
   "source": [
    "fun <T> List<T>.containsAllInOrder(lastPart: List<T>, errorMax: Boolean = true): Boolean {\n",
    "    if (this.isEmpty() || lastPart.isEmpty()) return false\n",
    "    \n",
    "    if (errorMax) {\n",
    "    var error = 0\n",
    "\n",
    "    if (this.size <= lastPart.size) {\n",
    "      for (i in this.indices) {\n",
    "        if (this[i] != lastPart[i]) error++\n",
    "      }\n",
    "    } else {\n",
    "      for (i in lastPart.indices) {\n",
    "        if (this[i] != lastPart[i]) error++\n",
    "      }\n",
    "    }\n",
    "    return error == 1\n",
    "    } else {\n",
    "      if (this.size <= lastPart.size) {\n",
    "      for (i in this.indices) {\n",
    "        if (this[i] != lastPart[i]) return false\n",
    "      }\n",
    "    } else {\n",
    "      for (i in lastPart.indices) {\n",
    "        if (this[i] != lastPart[i]) return false\n",
    "      }\n",
    "    }\n",
    "    return true\n",
    "    }\n",
    "}"
   ],
   "metadata": {
    "collapsed": false,
    "ExecuteTime": {
     "end_time": "2023-12-21T12:34:40.876622Z",
     "start_time": "2023-12-21T12:34:40.809682Z"
    }
   }
  },
  {
   "cell_type": "markdown",
   "source": [
    "#...##..#\n",
    "#....#..#\n",
    "..##..###\n",
    "#####.##.\n",
    "#####.##.\n",
    "..##..###\n",
    "#....#..#\n",
    "\n",
    "#...##..#  \n",
    "           #....#..#\n",
    "           ..##..###\n",
    "           #####.##.\n",
    "           #####.##.\n",
    "           ..##..###\n",
    "           #....#..#\n",
    "           \n",
    "#...##..#  \n",
    "#....#..#  \n",
    "           ..##..###\n",
    "           #####.##.\n",
    "           #####.##.\n",
    "           ..##..###\n",
    "           #....#..#\n",
    "           \n",
    "#...##..#  \n",
    "#....#..#  \n",
    "..##..###\n",
    "           #####.##.\n",
    "           #####.##.\n",
    "           ..##..###\n",
    "           #....#..#\n",
    "           \n",
    "#...##..#               #####.##.\n",
    "#....#..#               ..##..###\n",
    "..##..###               #....#..#\n",
    "#####.##.               #...##..#\n",
    "           #####.##.\n",
    "           ..##..###\n",
    "           #....#..#\n"
   ],
   "metadata": {
    "collapsed": false
   }
  },
  {
   "cell_type": "code",
   "execution_count": 110,
   "outputs": [
    {
     "name": "stdout",
     "output_type": "stream",
     "text": [
      "map 0: [.#.##.#.#, .##..##.., .#.##.#.., #......##, #......##, .#.##.#.., .##..##.#]\n",
      "lastPart: [.##..##.., .#.##.#.., #......##, #......##, .#.##.#.., .##..##.#]\n",
      "firstPart: [.#.##.#.#]\n",
      "possible mirror at 1\n",
      "lastPart: [.#.##.#.., #......##, #......##, .#.##.#.., .##..##.#]\n",
      "firstPart: [.##..##.., .#.##.#.#]\n",
      "lastPart: [#......##, #......##, .#.##.#.., .##..##.#]\n",
      "firstPart: [.#.##.#.., .##..##.., .#.##.#.#]\n",
      "lastPart: [#......##, .#.##.#.., .##..##.#]\n",
      "firstPart: [#......##, .#.##.#.., .##..##.., .#.##.#.#]\n",
      "possible mirror at 4\n",
      "lastPart: [.#.##.#.., .##..##.#]\n",
      "firstPart: [#......##, #......##, .#.##.#.., .##..##.., .#.##.#.#]\n"
     ]
    }
   ],
   "source": [
    "val horizontalMirrors = mutableListOf<Pair<Int, Int>>()\n",
    "input.withIndex().forEach { (index, map) ->\n",
    "  println(\"map $index: $map\")\n",
    "  \n",
    "  var lastPart = mutableListOf<String>()\n",
    "  lastPart.addAll(map.drop(1))\n",
    "  var best = mutableListOf<Pair<Int, Int>>()\n",
    "  for (i in 1 until map.size - 1) {\n",
    "    println(\"lastPart: $lastPart\")\n",
    "    val firstPart = map.subList(0, i).reversed()\n",
    "    println(\"firstPart: $firstPart\")\n",
    "    if (!lastPart.isEmpty() && firstPart.containsAllInOrder(lastPart)) {\n",
    "      println(\"possible mirror at $i\")\n",
    "      best.add(index to i)\n",
    "    }\n",
    "    lastPart = map.subList(i + 1, map.size).toMutableList()\n",
    "  }\n",
    "  best.maxByOrNull { it.second }?.let { horizontalMirrors.add(it) }\n",
    " }"
   ],
   "metadata": {
    "collapsed": false,
    "ExecuteTime": {
     "end_time": "2023-12-21T12:34:40.987911Z",
     "start_time": "2023-12-21T12:34:40.876151Z"
    }
   }
  },
  {
   "cell_type": "code",
   "execution_count": 111,
   "outputs": [
    {
     "data": {
      "text/plain": "[(0, 4)]"
     },
     "execution_count": 111,
     "metadata": {},
     "output_type": "execute_result"
    }
   ],
   "source": [
    "horizontalMirrors"
   ],
   "metadata": {
    "collapsed": false,
    "ExecuteTime": {
     "end_time": "2023-12-21T12:34:41.037698Z",
     "start_time": "2023-12-21T12:34:40.987390Z"
    }
   }
  },
  {
   "cell_type": "code",
   "execution_count": 112,
   "outputs": [],
   "source": [
    "fun List<String>.transpose(): List<String> {\n",
    "    val maxLength = this.maxByOrNull { it.length }?.length ?: 0\n",
    "    return List(maxLength) { index ->\n",
    "        this.map { str -> if (index < str.length) str[index] else ' ' }.joinToString(\"\")\n",
    "    }\n",
    "}"
   ],
   "metadata": {
    "collapsed": false,
    "ExecuteTime": {
     "end_time": "2023-12-21T12:34:41.070828Z",
     "start_time": "2023-12-21T12:34:41.013682Z"
    }
   }
  },
  {
   "cell_type": "code",
   "execution_count": 113,
   "outputs": [
    {
     "data": {
      "text/plain": "[[.#.##.#.#, .##..##.., .#.##.#.., #......##, #......##, .#.##.#.., .##..##.#]]"
     },
     "execution_count": 113,
     "metadata": {},
     "output_type": "execute_result"
    }
   ],
   "source": [
    "input"
   ],
   "metadata": {
    "collapsed": false,
    "ExecuteTime": {
     "end_time": "2023-12-21T12:34:41.080295Z",
     "start_time": "2023-12-21T12:34:41.056699Z"
    }
   }
  },
  {
   "cell_type": "code",
   "execution_count": 114,
   "outputs": [
    {
     "data": {
      "text/plain": "[[...##.., ###..##, .#....#, #.#..#., #.#..#., .#....#, ###..##, ...##.., #..##.#]]"
     },
     "execution_count": 114,
     "metadata": {},
     "output_type": "execute_result"
    }
   ],
   "source": [
    "input.map { it.transpose() }"
   ],
   "metadata": {
    "collapsed": false,
    "ExecuteTime": {
     "end_time": "2023-12-21T12:34:41.122922Z",
     "start_time": "2023-12-21T12:34:41.071787Z"
    }
   }
  },
  {
   "cell_type": "code",
   "execution_count": 115,
   "outputs": [
    {
     "name": "stdout",
     "output_type": "stream",
     "text": [
      "map 0: [...##.., ###..##, .#....#, #.#..#., #.#..#., .#....#, ###..##, ...##.., #..##.#]\n",
      "lastPart: [###..##, .#....#, #.#..#., #.#..#., .#....#, ###..##, ...##.., #..##.#]\n",
      "firstPart: [...##..]\n",
      "possible mirror at 1\n",
      "lastPart: [.#....#, #.#..#., #.#..#., .#....#, ###..##, ...##.., #..##.#]\n",
      "firstPart: [###..##, ...##..]\n",
      "lastPart: [#.#..#., #.#..#., .#....#, ###..##, ...##.., #..##.#]\n",
      "firstPart: [.#....#, ###..##, ...##..]\n",
      "lastPart: [#.#..#., .#....#, ###..##, ...##.., #..##.#]\n",
      "firstPart: [#.#..#., .#....#, ###..##, ...##..]\n",
      "lastPart: [.#....#, ###..##, ...##.., #..##.#]\n",
      "firstPart: [#.#..#., #.#..#., .#....#, ###..##, ...##..]\n",
      "lastPart: [###..##, ...##.., #..##.#]\n",
      "firstPart: [.#....#, #.#..#., #.#..#., .#....#, ###..##, ...##..]\n",
      "lastPart: [...##.., #..##.#]\n",
      "firstPart: [###..##, .#....#, #.#..#., #.#..#., .#....#, ###..##, ...##..]\n",
      "lastPart: [#..##.#]\n",
      "firstPart: [...##.., ###..##, .#....#, #.#..#., #.#..#., .#....#, ###..##, ...##..]\n",
      "possible mirror at 8\n"
     ]
    }
   ],
   "source": [
    "val verticalMirrors = mutableListOf<Pair<Int,Int>>()\n",
    "input.map { it.transpose() }.withIndex().forEach { (index, map) ->\n",
    "  println(\"map $index: $map\")\n",
    "  \n",
    "  var lastPart = mutableListOf<String>()\n",
    "  lastPart.addAll(map.drop(1))\n",
    "  var best = mutableListOf<Pair<Int, Int>>()\n",
    "  for (i in 1 until map.size) {\n",
    "    println(\"lastPart: $lastPart\")\n",
    "    val firstPart = map.subList(0, i).reversed()\n",
    "    println(\"firstPart: $firstPart\")\n",
    "    if (!lastPart.isEmpty() && firstPart.containsAllInOrder(lastPart)) {\n",
    "      println(\"possible mirror at $i\")\n",
    "      best.add(index to i)\n",
    "    }\n",
    "    lastPart = map.subList(i + 1, map.size).toMutableList()\n",
    "  }\n",
    "  best.maxByOrNull { it.second }?.let { verticalMirrors.add(it) }\n",
    " }"
   ],
   "metadata": {
    "collapsed": false,
    "ExecuteTime": {
     "end_time": "2023-12-21T12:34:41.200146Z",
     "start_time": "2023-12-21T12:34:41.101456Z"
    }
   }
  },
  {
   "cell_type": "code",
   "execution_count": 116,
   "outputs": [
    {
     "data": {
      "text/plain": "[(0, 8)]"
     },
     "execution_count": 116,
     "metadata": {},
     "output_type": "execute_result"
    }
   ],
   "source": [
    "verticalMirrors"
   ],
   "metadata": {
    "collapsed": false,
    "ExecuteTime": {
     "end_time": "2023-12-21T12:34:41.241506Z",
     "start_time": "2023-12-21T12:34:41.197831Z"
    }
   }
  },
  {
   "cell_type": "code",
   "execution_count": 117,
   "outputs": [],
   "source": [
    "val sum = verticalMirrors.filter { it.first !in horizontalMirrors.map { it.first } }.sumOf { it.second } + horizontalMirrors.sumOf { it.second * 100 }"
   ],
   "metadata": {
    "collapsed": false,
    "ExecuteTime": {
     "end_time": "2023-12-21T12:34:41.279940Z",
     "start_time": "2023-12-21T12:34:41.215540Z"
    }
   }
  },
  {
   "cell_type": "code",
   "execution_count": 118,
   "outputs": [
    {
     "data": {
      "text/plain": "400"
     },
     "execution_count": 118,
     "metadata": {},
     "output_type": "execute_result"
    }
   ],
   "source": [
    "sum"
   ],
   "metadata": {
    "collapsed": false,
    "ExecuteTime": {
     "end_time": "2023-12-21T12:34:41.297774Z",
     "start_time": "2023-12-21T12:34:41.277150Z"
    }
   }
  },
  {
   "cell_type": "code",
   "execution_count": 119,
   "outputs": [
    {
     "data": {
      "text/plain": "400"
     },
     "execution_count": 119,
     "metadata": {},
     "output_type": "execute_result"
    }
   ],
   "source": [
    "verticalMirrors.groupBy { it.first }.map { it.value.last() }.filter { it.first !in horizontalMirrors.map { it.first } }.sumOf { it.second } + horizontalMirrors.groupBy { it.first }.map { it.value.last() }.sumOf { it.second * 100 }"
   ],
   "metadata": {
    "collapsed": false,
    "ExecuteTime": {
     "end_time": "2023-12-21T12:34:41.395969Z",
     "start_time": "2023-12-21T12:34:41.296875Z"
    }
   }
  },
  {
   "cell_type": "code",
   "execution_count": 120,
   "outputs": [],
   "source": [],
   "metadata": {
    "collapsed": false,
    "ExecuteTime": {
     "end_time": "2023-12-21T12:34:41.400894Z",
     "start_time": "2023-12-21T12:34:41.395185Z"
    }
   }
  }
 ],
 "metadata": {
  "kernelspec": {
   "display_name": "Kotlin",
   "language": "kotlin",
   "name": "kotlin"
  },
  "language_info": {
   "name": "kotlin",
   "version": "1.9.0",
   "mimetype": "text/x-kotlin",
   "file_extension": ".kt",
   "pygments_lexer": "kotlin",
   "codemirror_mode": "text/x-kotlin",
   "nbconvert_exporter": ""
  }
 },
 "nbformat": 4,
 "nbformat_minor": 0
}
