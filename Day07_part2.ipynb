{
 "cells": [
  {
   "cell_type": "code",
   "execution_count": 94,
   "metadata": {
    "collapsed": true,
    "ExecuteTime": {
     "end_time": "2023-12-07T17:39:42.031764Z",
     "start_time": "2023-12-07T17:39:41.918224Z"
    }
   },
   "outputs": [],
   "source": [
    "import kotlin.io.path.Path\n",
    "import kotlin.io.path.readLines\n",
    "\n",
    "val input = Path(\"src/day07.txt\").readLines()"
   ]
  },
  {
   "cell_type": "code",
   "execution_count": 95,
   "outputs": [],
   "source": [
    "enum class HandType {\n",
    "  HIGH,\n",
    "  PAIR,\n",
    "  PAIRS,\n",
    "  TRIPLE,\n",
    "  FULL,\n",
    "  FOUR,\n",
    "  FIVE,\n",
    "}\n",
    "\n",
    "val winningCardOrder = listOf(\"A\", \"K\", \"Q\", \"T\", \"9\", \"8\", \"7\", \"6\", \"5\", \"4\", \"3\", \"2\", \"J\")\n",
    "\n",
    "data class Hand(val cards: String, val bid: Long) : Comparable<Hand> {\n",
    "  val handType: HandType = cards.groupingBy { it }.eachCount().let {\n",
    "    when {\n",
    "      it.any { it.value == 5 } -> HandType.FIVE\n",
    "      it.any { it.value == 4 } -> {\n",
    "        if (it.containsKey('J')) HandType.FIVE else HandType.FOUR\n",
    "      }\n",
    "\n",
    "      it.any { it.value == 3 } -> {\n",
    "        if (it.containsKey('J')) {\n",
    "          if (it['J'] == 2) HandType.FIVE \n",
    "          else if (it['J'] == 1) HandType.FOUR  \n",
    "          else if (it.count() == 2) HandType.FIVE\n",
    "          else if (it.count() == 3) HandType.FOUR\n",
    "          else HandType.TRIPLE \n",
    "        } else {\n",
    "          if (it.count() == 2) HandType.FULL else HandType.TRIPLE\n",
    "        }\n",
    "      }\n",
    "\n",
    "      it.any { it.value == 2 } -> {\n",
    "        if (it.containsKey('J')) {\n",
    "          if (it.count() == 3) {\n",
    "            if (it['J'] == 2) HandType.FOUR else HandType.FULL\n",
    "          } else HandType.TRIPLE\n",
    "        } else {\n",
    "          if (it.count() == 3) HandType.PAIRS else HandType.PAIR\n",
    "        }\n",
    "      }\n",
    "\n",
    "      else -> {\n",
    "        if (it.containsKey('J')) HandType.PAIR else HandType.HIGH\n",
    "      }\n",
    "    }\n",
    "  }\n",
    "\n",
    "  override fun compareTo(other: Hand): Int {\n",
    "    return if (this.handType != other.handType) this.handType.compareTo(other.handType)\n",
    "    else {\n",
    "      for (i in 0..this.cards.length) {\n",
    "        if (this.cards[i] == other.cards[i]) {\n",
    "          continue\n",
    "        } else {\n",
    "          val indexThis = winningCardOrder.indexOf(this.cards[i].toString())\n",
    "          val indexOther = winningCardOrder.indexOf(other.cards[i].toString())\n",
    "          return indexOther.compareTo(indexThis)\n",
    "        }\n",
    "      }\n",
    "      0\n",
    "    }\n",
    "  }\n",
    "}"
   ],
   "metadata": {
    "collapsed": false,
    "ExecuteTime": {
     "end_time": "2023-12-07T17:39:42.174060Z",
     "start_time": "2023-12-07T17:39:42.030789Z"
    }
   }
  },
  {
   "cell_type": "code",
   "execution_count": 96,
   "outputs": [],
   "source": [
    "val hands = input.map { \n",
    "  val (hands, bid) = it.split(\" \").filter { it.isNotBlank() }\n",
    "  Hand(hands, bid.toLong())\n",
    "}"
   ],
   "metadata": {
    "collapsed": false,
    "ExecuteTime": {
     "end_time": "2023-12-07T17:39:42.248688Z",
     "start_time": "2023-12-07T17:39:42.173517Z"
    }
   }
  },
  {
   "cell_type": "code",
   "execution_count": 97,
   "outputs": [
    {
     "data": {
      "text/plain": "[237T5, 23KQ6, 245QK, 27865, 278A3, 2QKT5, 32568, 32T9A, 34T9Q, 37T2A, 38KA5, 3TQ4A, 3Q294, 3Q489, 3Q869, 3QK24, 3K2AQ, 3K6Q7, 3KA7Q, 3A746, 42KT7, 43895, 45296, 4567T, 46589, 46Q75, 47958, 4T29Q, 4KQ5A, 4A72T, 529A3, 5746A, 58642, 589A4, 59T28, 59Q3T, 5T83K, 5A3QK, 5A837, 5A87T, 6257Q, 63529, 63TQ7, 64293, 64TA9, 684KT, 687Q3, 68A2K, 69A35, 69A5K, 6K4QA, 6A3T8, 6A9T3, 6AT23, 6AQT9, 6AK27, 72A68, 738K9, 743KT, 74AK2, 78T53, 78K69, 795TQ, 7T264, 7K93A, 7KQ53, 7KA83, 7A965, 82593, 8632Q, 8634T, 8637A, 86T5A, 89K46, 8TA4Q, 8K56T, 8A345, 92438, 92T8Q, 92KQ5, 965T3, 96Q4T, 9T374, 9T874, 9TK4A, 9Q637, 9QAK8, 9K437, 9K482, 9A357, T2847, T4A32, T7QK9, T7K5Q, T856Q, T87KQ, T9K27, TK23A, TK637, TK68Q, TK725, Q24T8, Q2534, Q32T4, Q4593, Q5347, Q594A, Q6A7T, Q7T38, Q98TK, Q9T47, QT4K5, QT896, K38Q6, K398T, K43Q9, K4867, K5978, K5A64, K634T, K7843, K8427, K859Q, K8TA4, K976T, KT26Q, KT63A, KQ49A, A23QT, A4635, A4938, A5Q4T, A692K, A75KQ, A872Q, AT2Q4, AQ379, AK685, J2Q85, J45TK, J4TKQ, J5892, J7482, J895Q, J9734, JKTQ7, JA27K, JA9K8, JATQ6, 2J834, 2JK74, 2JAQK, 23585, 23K43, 25QJA, 264AJ, 269J8, 26A9J, 27426, 2783J, 27962, 2944Q, 2TJ7A, 2T68T, 2Q3A3, 2K7A7, 2A2Q7, 2A33K, 3J748, 3JT48, 33745, 35ATJ, 3669A, 37J6T, 39J7A, 39Q37, 3T5J6, 3TAJ8, 3QT37, 3K98K, 3A62J, 4J5A6, 4J829, 422A3, 42374, 42Q55, 4388T, 44356, 443TK, 44623, 45Q34, 46754, 4922K, 4T2T3, 4T3KJ, 4Q8TT, 4QT43, 4QKT4, 4K5T4, 4K72K, 4K74T, 4K7K8, 4A797, 4A7QJ, 4A8AQ, 4A969, 4ATA2, 5J6Q4, 5J924, 5JT82, 5357T, 55298, 55367, 567JT, 56TQT, 57TTK, 59J2Q, 59K7J, 5T37T, 5T4T3, 5Q23Q, 5K477, 5KQ88, 5KA52, 5KA56, 6J524, 62KAJ, 6326T, 639KK, 65523, 67Q57, 6826K, 69943, 6T769, 6Q595, 6Q877, 6KTQJ, 6AQ65, 7J68K, 7JT29, 7224Q, 736QQ, 739Q9, 73AT7, 75J8A, 75JA9, 757T6, 75T5A, 76J94, 76357, 76695, 76784, 76875, 768TJ, 77KA3, 789AJ, 78Q37, 79475, 79K87, 7T292, 7KJ4T, 7A3TA, 7AKK5, 7AKA9, 7AA25, 848TK, 853AJ, 85A38, 87J53, 882TA, 882K3, 8894T, 8995Q, 89AJT, 8T4Q4, 8AJ7Q, 9J758, 9JK25, 92J78, 93J78, 93226, 946K9, 95439, 98656, 99AQ5, 9T954, 9Q398, 9Q5QK, 9K474, 9A338, TJ823, T3J47, T3T7Q, T494K, T5QQ3, T6JA5, T69T5, T6QQ5, T7279, T78J9, T8JK5, T8QT2, T9577, T9878, TQJ3K, TQJ98, TQ5J2, TQ7KT, TQQ48, TQQ7A, TA5KA, TA887, Q2425, Q3389, Q42A4, Q45A4, Q4866, Q5T99, Q63KQ, Q794J, Q8332, Q8992, QT8J3, QQ5TA, QQ9A5, QA3JT, KJ72T, KJ73A, KJQ42, K2A2T, K63Q3, K7276, K8A89, K9T3T, K9K4Q, KT57K, KT77A, KTA7K, KQ565, KQK85, KK573, KA383, AJT9Q, A25A6, A327A, A343Q, A428J, A49J7, A5422, A7A62, A8373, A8996, A9J43, A9AQ5, AT72T, AQQ76, AQA83, AKKQ7, AA298, AA47Q, AA592, AA7KT, 22545, 22779, 22ATT, 23273, 288Q2, 2TQT2, 2K2KT, 33424, 33898, 36T6T, 373A7, 37883, 37Q7Q, 39377, 3TT37, 3Q3TQ, 3K366, 3K63K, 3KT3K, 3KK55, 42K2K, 43664, 43939, 44227, 44Q9Q, 48843, 4QQ4K, 4K4TT, 4K4TK, 4AA88, 5252K, 53435, 55K66, 55AQQ, 55AAK, 57272, 59549, 599QQ, 5T57T, 5T5T8, 5TT33, 5TTQ5, 5AA59, 62276, 62426, 6262A, 64TT6, 656KK, 66993, 66Q9Q, 66K88, 66ATT, 67765, 6TQTQ, 6QQ64, 6KK46, 73878, 73979, 73A3A, 74574, 75885, 75AA5, 77TT6, 79279, 797K9, 79987, 85458, 88223, 8822K, 88577, 89895, 8Q28Q, 8A5A8, 8AT8A, 92295, 92332, 92988, 93329, 94K4K, 955K9, 97497, 98Q9Q, 99QKQ, 9TT92, 9K9AA, T42T4, T52T2, T5599, T5T45, T5A5T, T7T44, TTKK8, TQ3TQ, TK22T, TK77T, TAT8A, Q2727, Q2Q62, Q3T3T, Q55AA, Q6688, Q66TT, Q9977, K25K5, KQKQT, KK668, KK899, A232A, A4Q4A, A525A, A7799, A7A37, ATAKT, AKKAT, AA323, JJ73K, JJAT3, J2K55, J33Q4, J3AJ5, J42KJ, J4459, J4KA4, J5886, J5TJ8, J6356, J6T65, J7567, J8Q44, J8Q99, J9JQA, J95KK, J9692, J99KQ, JTJ36, JTJ94, JT39T, JT565, JTA9T, JQ24J, JQ98Q, JQ9T9, JQK9K, JK494, JA552, JA6A9, JA8KJ, JAA93, 2JTTQ, 22246, 22327, 232J4, 244QJ, 27226, 27QQQ, 2833J, 29242, 2998J, 2T6TT, 2Q2TJ, 2Q77J, 2QQQ9, 2K322, 3JQ83, 3JKJ4, 332T3, 33K37, 35Q33, 36JJQ, 36233, 36353, 39336, 393Q3, 393K3, 3T2J3, 3T337, 3TQJT, 3Q373, 3K343, 3KKK6, 4J482, 42944, 444AT, 44643, 4474T, 47772, 47KKK, 48442, 4888K, 4TTJK, 4TQTT, 4KJKT, 4K44Q, 4A6AA, 5J25T, 5J662, 53JAA, 57377, 57525, 599Q9, 5T525, 5T5KJ, 5T9TT, 5TTT2, 5KK7K, 5AKJK, 6J496, 6JT6A, 6366T, 6393J, 64J74, 64448, 6626A, 679J6, 67Q66, 68788, 69JJQ, 6TKTT, 6Q444, 6KJJQ, 6KAKK, 6A9JJ, 7222A, 74944, 74977, 766JT, 77679, 77KJ6, 789J8, 78K88, 7T6TT, 7Q977, 7QQ6Q, 8J499, 8J6AA, 8JK82, 8JK86, 8JKAA, 88J62, 88863, 888QA, 88T85, 8T838, 8T886, 8Q838, 8KKK7, 8ATTT, 8AA7A, 92223, 9297J, 9399T, 94464, 9666Q, 977A7, 98A88, 99298, 99693, 99695, 999A8, 9T929, 9TTJ4, 9TT8T, 9Q3QQ, 9A8AA, TJTQ7, TJAJ2, T2242, T2KJT, T4J8T, T4544, T4T6T, T5557, T9TJK, TTT87, TTQT2, TQJ88, TQ4QQ, TKK9J, TAAJQ, QJ3TQ, QJ88A, QJQT9, Q2JJ3, Q2J6J, Q2AQJ, Q333K, Q49QQ, Q55J8, Q5Q4Q, Q737J, Q76JJ, Q9899, QTQQ7, QQ6TQ, QQQ9K, K29JJ, K2K5K, K2KTK, K4JK3, K4K2K, K5855, K5955, K6J22, K666A, K999Q, KT6JT, KTK8J, KQQ2Q, KQKJ4, KQK7K, KK2KQ, KK68K, KK69K, KK82K, KKA5K, AJ6K6, AJ766, AJTT3, A3Q33, A3AA2, A4JA9, A7JKA, A7377, A7A3A, A888T, A8AJ7, A8AAK, A9TJA, AT4TT, AT8JA, AT9AA, ATTT6, AQAJ5, AAKA7, J5TT5, J77QQ, J7K7K, JTT88, JQKKQ, JA55A, JA8A8, 2J882, 222TT, 22323, 22333, 22442, 22525, 22626, 22888, 2299J, 27272, 29992, 2TTT2, 33J99, 33443, 3366J, 33838, 35335, 37733, 3TT3T, 3Q3QQ, 4J4TT, 43434, 4433J, 44422, 44666, 44949, 44T4T, 44Q4Q, 47744, 4949J, 4AA44, 5599J, 56565, 56566, 5T5T5, 5TTT5, 5QQ5J, 5QQ5Q, 5KK55, 5KKK5, 6J6QQ, 63633, 63663, 66J44, 66888, 7J676, 7227J, 73377, 74477, 77557, 77667, 77722, 77878, 77Q7Q, 7T7TT, 7Q7QQ, 7K77K, 7KKK7, 8J8QQ, 82822, 83J38, 84488, 86668, 88778, 88A8A, 8K8K8, 8AAA8, 95599, 96966, 97J97, 97779, 99222, 99339, 9966J, 99797, 99898, 99944, 9K9K9, T3T33, T66T6, T6T6J, T8TT8, T9TT9, TT777, TT888, TATTA, TAAJT, QJ44Q, Q4QQ4, Q555Q, Q66Q6, Q88Q8, Q9J9Q, QTTQQ, QKQKQ, QAQQA, QAAQJ, KJ55K, KJ66K, K2K22, K2K2K, K3J3K, K4K4K, K66K6, KKK33, KKKTT, A2A22, A2AA2, A33JA, A33AA, A44JA, A666A, A77A7, A9A99, ATAAT, AQAAQ, AA2J2, AA4A4, AA77A, JJ464, JJ56J, JJTT9, J2555, J3J99, J3373, J3393, J3AAA, J43JJ, J6646, J8488, JT222, JTAJA, JQ333, JQQ6Q, JK6JK, JA4J4, JAQQQ, JAAJ8, 22J26, 222J9, 22242, 23333, 24444, 2522J, 26222, 26666, 27222, 2822J, 29999, 2K222, 3J3T3, 3JTTT, 33343, 333Q3, 35333, 38333, 399J9, 39999, 3QJJ3, 4JJJT, 4J4JT, 4JA44, 44443, 44449, 4445J, 444T4, 444Q4, 444K4, 4KKJK, 5JTTJ, 5JKKJ, 52222, 52555, 545J5, 55545, 55575, 56555, 5666J, 57J55, 58555, 59555, 5T555, 5KJ55, 63333, 64J44, 66J26, 66J3J, 663J6, 66686, 67777, 68888, 6T666, 7J797, 74444, 757J7, 77JQJ, 77773, 77774, 777A7, 7KKKK, 8JJTJ, 84444, 8868J, 88884, 8898J, 88T88, 88A88, 8TJ88, 8KJ8J, 9J555, 9J997, 9JKKK, 9JAAA, 94999, 99J89, 99599, 99799, 99989, 999T9, 999Q9, 999AJ, 99A99, 9KKKK, T2222, T2TJT, T99J9, TTJT7, TT4TT, TT9TT, TTT2T, TTTT8, TTKTT, TQTJT, TATTT, QJ9QQ, QJQQT, Q4QQJ, Q6666, Q8888, Q8QQJ, Q99J9, Q9QQQ, QQJQ7, QQ3QJ, QQ5QQ, QQ8QQ, QQQ2Q, QQQ4Q, QQQKQ, QAAAA, KJKK5, K22J2, K3JKK, K3KJJ, K3KKK, K4KKK, K5555, KAJKK, AJQAA, A5555, A5AAA, A6666, A7JJJ, AAJA5, AA2AA, AA8AJ, AA8AA, AAKAA, AAAJ2, JJJJJ, JJ222, JJ444, JJ8JJ, JJ99J, JJKKK, J33J3, J6666, JTTJT, JQQQJ, JQQQQ, 2J222, 333J3, 4444J, 55JJ5, 5555J, 6J6J6, 7J77J, 7777J, 8JJ88, 88J88, 99JJ9, 9999J, TTJTT, QQJJJ, KKKJK, AJAJA, AAJAA]"
     },
     "execution_count": 97,
     "metadata": {},
     "output_type": "execute_result"
    }
   ],
   "source": [
    "hands.sorted().map { it.cards }"
   ],
   "metadata": {
    "collapsed": false,
    "ExecuteTime": {
     "end_time": "2023-12-07T17:39:42.288529Z",
     "start_time": "2023-12-07T17:39:42.247966Z"
    }
   }
  },
  {
   "cell_type": "code",
   "execution_count": 98,
   "outputs": [
    {
     "data": {
      "text/plain": "248750248"
     },
     "execution_count": 98,
     "metadata": {},
     "output_type": "execute_result"
    }
   ],
   "source": [
    "hands.sorted().withIndex().sumOf { (index, value) ->\n",
    "  value.bid * (index + 1)\n",
    " }"
   ],
   "metadata": {
    "collapsed": false,
    "ExecuteTime": {
     "end_time": "2023-12-07T17:39:42.377138Z",
     "start_time": "2023-12-07T17:39:42.287182Z"
    }
   }
  }
 ],
 "metadata": {
  "kernelspec": {
   "display_name": "Kotlin",
   "language": "kotlin",
   "name": "kotlin"
  },
  "language_info": {
   "name": "kotlin",
   "version": "1.9.0",
   "mimetype": "text/x-kotlin",
   "file_extension": ".kt",
   "pygments_lexer": "kotlin",
   "codemirror_mode": "text/x-kotlin",
   "nbconvert_exporter": ""
  }
 },
 "nbformat": 4,
 "nbformat_minor": 0
}
