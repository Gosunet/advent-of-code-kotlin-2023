{
 "cells": [
  {
   "cell_type": "code",
   "execution_count": 2,
   "metadata": {
    "collapsed": true,
    "ExecuteTime": {
     "end_time": "2023-12-06T18:05:12.543095Z",
     "start_time": "2023-12-06T18:05:12.309943Z"
    }
   },
   "outputs": [],
   "source": [
    "import kotlin.io.path.Path\n",
    "import kotlin.io.path.readLines\n",
    "\n",
    "val testInput = Path(\"src/day06.txt\").readLines()"
   ]
  },
  {
   "cell_type": "code",
   "execution_count": 3,
   "outputs": [],
   "source": [
    "data class Race(val time: Long, val record: Long)"
   ],
   "metadata": {
    "collapsed": false,
    "ExecuteTime": {
     "end_time": "2023-12-06T18:05:12.698942Z",
     "start_time": "2023-12-06T18:05:12.527741Z"
    }
   }
  },
  {
   "cell_type": "code",
   "execution_count": 4,
   "outputs": [
    {
     "data": {
      "text/plain": "[Time:        53     83     72     88, Distance:   333   1635   1289   1532]"
     },
     "execution_count": 4,
     "metadata": {},
     "output_type": "execute_result"
    }
   ],
   "source": [
    "testInput"
   ],
   "metadata": {
    "collapsed": false,
    "ExecuteTime": {
     "end_time": "2023-12-06T18:05:12.768602Z",
     "start_time": "2023-12-06T18:05:12.699477Z"
    }
   }
  },
  {
   "cell_type": "code",
   "execution_count": 5,
   "outputs": [],
   "source": [
    "val values = testInput.map { it.substringAfter(\":\").split(\" \").filter { it.isNotBlank() }.map { it.toLong() } }"
   ],
   "metadata": {
    "collapsed": false,
    "ExecuteTime": {
     "end_time": "2023-12-06T18:05:12.973643Z",
     "start_time": "2023-12-06T18:05:12.768957Z"
    }
   }
  },
  {
   "cell_type": "code",
   "execution_count": 6,
   "outputs": [
    {
     "data": {
      "text/plain": "[[53, 83, 72, 88], [333, 1635, 1289, 1532]]"
     },
     "execution_count": 6,
     "metadata": {},
     "output_type": "execute_result"
    }
   ],
   "source": [
    "values"
   ],
   "metadata": {
    "collapsed": false,
    "ExecuteTime": {
     "end_time": "2023-12-06T18:05:13.014941Z",
     "start_time": "2023-12-06T18:05:12.973112Z"
    }
   }
  },
  {
   "cell_type": "code",
   "execution_count": 7,
   "outputs": [],
   "source": [
    "val races = values[0].withIndex().map { (index, _) -> \n",
    "  Race(time = values[0][index], values[1][index])\n",
    " }"
   ],
   "metadata": {
    "collapsed": false,
    "ExecuteTime": {
     "end_time": "2023-12-06T18:05:13.108250Z",
     "start_time": "2023-12-06T18:05:13.005063Z"
    }
   }
  },
  {
   "cell_type": "code",
   "execution_count": 8,
   "outputs": [
    {
     "data": {
      "text/plain": "[Race(time=53, record=333), Race(time=83, record=1635), Race(time=72, record=1289), Race(time=88, record=1532)]"
     },
     "execution_count": 8,
     "metadata": {},
     "output_type": "execute_result"
    }
   ],
   "source": [
    "races"
   ],
   "metadata": {
    "collapsed": false,
    "ExecuteTime": {
     "end_time": "2023-12-06T18:05:13.139329Z",
     "start_time": "2023-12-06T18:05:13.102450Z"
    }
   }
  },
  {
   "cell_type": "code",
   "execution_count": 9,
   "outputs": [],
   "source": [
    "val winningTimes = races.map { \n",
    "  val possibleDelay = 0..it.time\n",
    "  val record = it.record\n",
    "  possibleDelay.map { delay ->\n",
    "    val speed = delay * 1\n",
    "    val remainingTime = it.time - delay\n",
    "    remainingTime * speed\n",
    "   }.filter { \n",
    "     it > record\n",
    "    }\n",
    " }"
   ],
   "metadata": {
    "collapsed": false,
    "ExecuteTime": {
     "end_time": "2023-12-06T18:05:13.240996Z",
     "start_time": "2023-12-06T18:05:13.134420Z"
    }
   }
  },
  {
   "cell_type": "code",
   "execution_count": 10,
   "outputs": [
    {
     "name": "stderr",
     "output_type": "stream",
     "text": [
      "Line_10.jupyter.kts (1:14 - 25) Unresolved reference: toDataFrame"
     ]
    }
   ],
   "source": [
    "winningTimes.toDataFrame()"
   ],
   "metadata": {
    "collapsed": false,
    "ExecuteTime": {
     "end_time": "2023-12-06T18:05:13.253119Z",
     "start_time": "2023-12-06T18:05:13.235519Z"
    }
   }
  },
  {
   "cell_type": "code",
   "execution_count": 11,
   "outputs": [
    {
     "data": {
      "text/plain": "140220"
     },
     "execution_count": 11,
     "metadata": {},
     "output_type": "execute_result"
    }
   ],
   "source": [
    "winningTimes.map { it.count() }.reduce { acc, num -> acc * num }"
   ],
   "metadata": {
    "collapsed": false,
    "ExecuteTime": {
     "end_time": "2023-12-06T18:05:13.329153Z",
     "start_time": "2023-12-06T18:05:13.251129Z"
    }
   }
  }
 ],
 "metadata": {
  "kernelspec": {
   "display_name": "Kotlin",
   "language": "kotlin",
   "name": "kotlin"
  },
  "language_info": {
   "name": "kotlin",
   "version": "1.9.0",
   "mimetype": "text/x-kotlin",
   "file_extension": ".kt",
   "pygments_lexer": "kotlin",
   "codemirror_mode": "text/x-kotlin",
   "nbconvert_exporter": ""
  },
  "ktnbPluginMetadata": {
   "projectDependencies": [
    "kotlin-template-advent.main"
   ]
  }
 },
 "nbformat": 4,
 "nbformat_minor": 0
}
