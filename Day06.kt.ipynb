{
 "cells": [
  {
   "cell_type": "code",
   "execution_count": 1,
   "metadata": {
    "collapsed": true,
    "ExecuteTime": {
     "end_time": "2024-01-08T12:17:27.660723Z",
     "start_time": "2024-01-08T12:17:27.516685Z"
    }
   },
   "outputs": [],
   "source": [
    "import kotlin.io.path.Path\n",
    "import kotlin.io.path.readLines\n",
    "\n",
    "val testInput = Path(\"src/day06.txt\").readLines()"
   ]
  },
  {
   "cell_type": "code",
   "execution_count": 2,
   "outputs": [],
   "source": [
    "data class Race(val time: Long, val record: Long)"
   ],
   "metadata": {
    "collapsed": false,
    "ExecuteTime": {
     "end_time": "2024-01-08T12:17:27.835632Z",
     "start_time": "2024-01-08T12:17:27.661142Z"
    }
   }
  },
  {
   "cell_type": "code",
   "execution_count": 3,
   "outputs": [
    {
     "data": {
      "text/plain": "[Time:        53     83     72     88, Distance:   333   1635   1289   1532]"
     },
     "execution_count": 3,
     "metadata": {},
     "output_type": "execute_result"
    }
   ],
   "source": [
    "testInput"
   ],
   "metadata": {
    "collapsed": false,
    "ExecuteTime": {
     "end_time": "2024-01-08T12:17:27.900906Z",
     "start_time": "2024-01-08T12:17:27.836519Z"
    }
   }
  },
  {
   "cell_type": "code",
   "execution_count": 4,
   "outputs": [],
   "source": [
    "val values = testInput.map { it.substringAfter(\":\").split(\" \").filter { it.isNotBlank() }.map { it.toLong() } }"
   ],
   "metadata": {
    "collapsed": false,
    "ExecuteTime": {
     "end_time": "2024-01-08T12:17:28.118701Z",
     "start_time": "2024-01-08T12:17:27.901287Z"
    }
   }
  },
  {
   "cell_type": "code",
   "execution_count": 5,
   "outputs": [
    {
     "data": {
      "text/plain": "[[53, 83, 72, 88], [333, 1635, 1289, 1532]]"
     },
     "execution_count": 5,
     "metadata": {},
     "output_type": "execute_result"
    }
   ],
   "source": [
    "values"
   ],
   "metadata": {
    "collapsed": false,
    "ExecuteTime": {
     "end_time": "2024-01-08T12:17:28.148450Z",
     "start_time": "2024-01-08T12:17:28.117705Z"
    }
   }
  },
  {
   "cell_type": "code",
   "execution_count": 6,
   "outputs": [],
   "source": [
    "val races = values[0].zip(values[1]) { time, distance ->\n",
    "  Race(time = time, distance)\n",
    "}"
   ],
   "metadata": {
    "collapsed": false,
    "ExecuteTime": {
     "end_time": "2024-01-08T12:17:28.251352Z",
     "start_time": "2024-01-08T12:17:28.148851Z"
    }
   }
  },
  {
   "cell_type": "code",
   "execution_count": 7,
   "outputs": [
    {
     "data": {
      "text/plain": "[Race(time=53, record=333), Race(time=83, record=1635), Race(time=72, record=1289), Race(time=88, record=1532)]"
     },
     "execution_count": 7,
     "metadata": {},
     "output_type": "execute_result"
    }
   ],
   "source": [
    "races"
   ],
   "metadata": {
    "collapsed": false,
    "ExecuteTime": {
     "end_time": "2024-01-08T12:17:28.287903Z",
     "start_time": "2024-01-08T12:17:28.251490Z"
    }
   }
  },
  {
   "cell_type": "code",
   "execution_count": 8,
   "outputs": [
    {
     "data": {
      "text/plain": ""
     },
     "metadata": {},
     "output_type": "display_data"
    },
    {
     "data": {
      "text/html": "            <div id=\"kotlin_out_0\"></div>\n            <script type=\"text/javascript\">\n                            if(!window.kotlinQueues) {\n                window.kotlinQueues = {};\n            }\n            if(!window.kotlinQueues[\"kandyLetsPlot\"]) {\n                var resQueue = [];\n                window.kotlinQueues[\"kandyLetsPlot\"] = resQueue;\n                window[\"call_kandyLetsPlot\"] = function(f) {\n                    resQueue.push(f);\n                }\n            }\n            (function (){\n                var modifiers = [(function(script) {\n    script.src = \"https://cdn.jsdelivr.net/gh/JetBrains/lets-plot@v3.1.0/js-package/distr/lets-plot.min.js\"\n    script.type = \"text/javascript\";\n})];\n                var e = document.getElementById(\"kotlin_out_0\");\n                modifiers.forEach(function (gen) {\n                    var script = document.createElement(\"script\");\n                    gen(script)\n                    script.addEventListener(\"load\", function() {\n                        window[\"call_kandyLetsPlot\"] = function(f) {f();};\n                        window.kotlinQueues[\"kandyLetsPlot\"].forEach(function(f) {f();});\n                        window.kotlinQueues[\"kandyLetsPlot\"] = [];\n                    }, false);\n                    script.addEventListener(\"error\", function() {\n                        window[\"call_kandyLetsPlot\"] = function(f) {};\n                        window.kotlinQueues[\"kandyLetsPlot\"] = [];\n                        var div = document.createElement(\"div\");\n                        div.style.color = 'darkred';\n                        div.textContent = 'Error loading resource kandyLetsPlot';\n                        document.getElementById(\"kotlin_out_0\").appendChild(div);\n                    }, false);\n                    \n                    e.appendChild(script);\n                });\n            })();\n            </script>"
     },
     "metadata": {},
     "output_type": "display_data"
    }
   ],
   "source": [
    "%use kandy"
   ],
   "metadata": {
    "collapsed": false,
    "ExecuteTime": {
     "end_time": "2024-01-08T12:17:32.355508Z",
     "start_time": "2024-01-08T12:17:28.284994Z"
    }
   }
  },
  {
   "cell_type": "code",
   "execution_count": 9,
   "outputs": [
    {
     "data": {
      "text/plain": "   time record\n 0   53    333\n 1   83   1635\n 2   72   1289\n 3   88   1532\n"
     },
     "execution_count": 9,
     "metadata": {},
     "output_type": "execute_result"
    }
   ],
   "source": [
    "import org.jetbrains.kotlinx.dataframe.api.toDataFrame\n",
    "\n",
    "races.toDataFrame()"
   ],
   "metadata": {
    "collapsed": false,
    "ExecuteTime": {
     "end_time": "2024-01-08T12:17:32.478948Z",
     "start_time": "2024-01-08T12:17:32.354744Z"
    }
   }
  },
  {
   "cell_type": "code",
   "execution_count": 10,
   "outputs": [
    {
     "data": {
      "text/html": "            <script type=\"text/javascript\" data-lets-plot-script=\"library\" src=\"https://cdn.jsdelivr.net/gh/JetBrains/lets-plot@v3.1.0/js-package/distr/lets-plot.min.js\"></script>    \n               <div id=\"IyMxBH\"></div>\n   <script type=\"text/javascript\" data-lets-plot-script=\"plot\">\n       var plotSpec={\n\"mapping\":{\n},\n\"data\":{\n},\n\"kind\":\"plot\",\n\"scales\":[{\n\"aesthetic\":\"x\",\n\"limits\":[null,null]\n},{\n\"aesthetic\":\"y\",\n\"limits\":[null,null]\n}],\n\"layers\":[{\n\"mapping\":{\n\"x\":\"x\",\n\"y\":\"y\"\n},\n\"stat\":\"identity\",\n\"data\":{\n\"x\":[53.0,83.0,72.0,88.0],\n\"y\":[333.0,1635.0,1289.0,1532.0]\n},\n\"sampling\":\"none\",\n\"position\":\"identity\",\n\"geom\":\"line\"\n}]\n};\n       var plotContainer = document.getElementById(\"IyMxBH\");\n       LetsPlot.buildPlotFromProcessedSpecs(plotSpec, -1, -1, plotContainer);\n   </script>            \n        <svg id=0e9ee586-e03c-489c-aa23-a1d323f31e67 xmlns=\"http://www.w3.org/2000/svg\" xmlns:xlink=\"http://www.w3.org/1999/xlink\" class=\"plt-container\" width=\"600.0\" height=\"400.0\">\n  <style type=\"text/css\">\n  .plt-container {\n   font-family: Lucida Grande, sans-serif;\n   user-select: none;\n   -webkit-user-select: none;\n   -moz-user-select: none;\n   -ms-user-select: none;\n}\ntext {\n   text-rendering: optimizeLegibility;\n}\n#pZaEjad .plot-title {\n   fill: #474747;\n   font-family: Lucida Grande, sans-serif;\n   font-size: 16.0px;\n   font-weight: normal;\n   font-style: normal;   \n}\n#pZaEjad .plot-subtitle {\n   fill: #474747;\n   font-family: Lucida Grande, sans-serif;\n   font-size: 15.0px;\n   font-weight: normal;\n   font-style: normal;   \n}\n#pZaEjad .plot-caption {\n   fill: #474747;\n   font-family: Lucida Grande, sans-serif;\n   font-size: 13.0px;\n   font-weight: normal;\n   font-style: normal;   \n}\n#pZaEjad .legend-title {\n   fill: #474747;\n   font-family: Lucida Grande, sans-serif;\n   font-size: 15.0px;\n   font-weight: normal;\n   font-style: normal;   \n}\n#pZaEjad .legend-item {\n   fill: #474747;\n   font-family: Lucida Grande, sans-serif;\n   font-size: 13.0px;\n   font-weight: normal;\n   font-style: normal;   \n}\n#pZaEjad .axis-title-x {\n   fill: #474747;\n   font-family: Lucida Grande, sans-serif;\n   font-size: 15.0px;\n   font-weight: normal;\n   font-style: normal;   \n}\n#pZaEjad .axis-text-x {\n   fill: #474747;\n   font-family: Lucida Grande, sans-serif;\n   font-size: 13.0px;\n   font-weight: normal;\n   font-style: normal;   \n}\n#dtRZRMI .axis-tooltip-text-x {\n   fill: #ffffff;\n   font-family: Lucida Grande, sans-serif;\n   font-size: 13.0px;\n   font-weight: normal;\n   font-style: normal;   \n}\n#pZaEjad .axis-title-y {\n   fill: #474747;\n   font-family: Lucida Grande, sans-serif;\n   font-size: 15.0px;\n   font-weight: normal;\n   font-style: normal;   \n}\n#pZaEjad .axis-text-y {\n   fill: #474747;\n   font-family: Lucida Grande, sans-serif;\n   font-size: 13.0px;\n   font-weight: normal;\n   font-style: normal;   \n}\n#dtRZRMI .axis-tooltip-text-y {\n   fill: #ffffff;\n   font-family: Lucida Grande, sans-serif;\n   font-size: 13.0px;\n   font-weight: normal;\n   font-style: normal;   \n}\n#pZaEjad .facet-strip-text-x {\n   fill: #474747;\n   font-family: Lucida Grande, sans-serif;\n   font-size: 13.0px;\n   font-weight: normal;\n   font-style: normal;   \n}\n#pZaEjad .facet-strip-text-y {\n   fill: #474747;\n   font-family: Lucida Grande, sans-serif;\n   font-size: 13.0px;\n   font-weight: normal;\n   font-style: normal;   \n}\n#dtRZRMI .tooltip-text {\n   fill: #474747;\n   font-family: Lucida Grande, sans-serif;\n   font-size: 13.0px;\n   font-weight: normal;\n   font-style: normal;   \n}\n#dtRZRMI .tooltip-title {\n   fill: #474747;\n   font-family: Lucida Grande, sans-serif;\n   font-size: 13.0px;\n   font-weight: bold;\n   font-style: normal;   \n}\n#dtRZRMI .tooltip-label {\n   fill: #474747;\n   font-family: Lucida Grande, sans-serif;\n   font-size: 13.0px;\n   font-weight: bold;\n   font-style: normal;   \n}\n\n  </style>\n  <g id=\"pZaEjad\">\n    <rect x=\"0.0\" y=\"0.0\" height=\"400.0\" width=\"600.0\" stroke=\"rgb(71,71,71)\" stroke-opacity=\"1.0\" stroke-width=\"0.0\" fill=\"rgb(255,255,255)\" fill-opacity=\"1.0\">\n    </rect>\n    <g transform=\"translate(23.0 10.0 ) \">\n      <g transform=\"translate(42.99591213121782 344.0 ) \">\n        <line x1=\"51.039359207998245\" y1=\"-0.0\" x2=\"51.039359207998245\" y2=\"-344.0\" stroke=\"rgb(233,233,233)\" stroke-opacity=\"1.0\" stroke-width=\"1.0\">\n        </line>\n        <line x1=\"119.09183815199594\" y1=\"-0.0\" x2=\"119.09183815199594\" y2=\"-344.0\" stroke=\"rgb(233,233,233)\" stroke-opacity=\"1.0\" stroke-width=\"1.0\">\n        </line>\n        <line x1=\"187.14431709599364\" y1=\"-0.0\" x2=\"187.14431709599364\" y2=\"-344.0\" stroke=\"rgb(233,233,233)\" stroke-opacity=\"1.0\" stroke-width=\"1.0\">\n        </line>\n        <line x1=\"255.19679603999134\" y1=\"-0.0\" x2=\"255.19679603999134\" y2=\"-344.0\" stroke=\"rgb(233,233,233)\" stroke-opacity=\"1.0\" stroke-width=\"1.0\">\n        </line>\n        <line x1=\"323.24927498398904\" y1=\"-0.0\" x2=\"323.24927498398904\" y2=\"-344.0\" stroke=\"rgb(233,233,233)\" stroke-opacity=\"1.0\" stroke-width=\"1.0\">\n        </line>\n        <line x1=\"391.3017539279866\" y1=\"-0.0\" x2=\"391.3017539279866\" y2=\"-344.0\" stroke=\"rgb(233,233,233)\" stroke-opacity=\"1.0\" stroke-width=\"1.0\">\n        </line>\n        <line x1=\"459.35423287198444\" y1=\"-0.0\" x2=\"459.35423287198444\" y2=\"-344.0\" stroke=\"rgb(233,233,233)\" stroke-opacity=\"1.0\" stroke-width=\"1.0\">\n        </line>\n        <g transform=\"translate(51.039359207998245 0.0 ) \">\n          <line stroke-width=\"1.0\" stroke=\"rgb(71,71,71)\" stroke-opacity=\"1.0\" x2=\"0.0\" y2=\"4.0\">\n          </line>\n          <g transform=\"translate(0.0 7.0 ) \">\n            <text class=\"axis-text-x\" text-anchor=\"middle\" dy=\"0.7em\">\n            55\n            </text>\n          </g>\n        </g>\n        <g transform=\"translate(119.09183815199594 0.0 ) \">\n          <line stroke-width=\"1.0\" stroke=\"rgb(71,71,71)\" stroke-opacity=\"1.0\" x2=\"0.0\" y2=\"4.0\">\n          </line>\n          <g transform=\"translate(0.0 7.0 ) \">\n            <text class=\"axis-text-x\" text-anchor=\"middle\" dy=\"0.7em\">\n            60\n            </text>\n          </g>\n        </g>\n        <g transform=\"translate(187.14431709599364 0.0 ) \">\n          <line stroke-width=\"1.0\" stroke=\"rgb(71,71,71)\" stroke-opacity=\"1.0\" x2=\"0.0\" y2=\"4.0\">\n          </line>\n          <g transform=\"translate(0.0 7.0 ) \">\n            <text class=\"axis-text-x\" text-anchor=\"middle\" dy=\"0.7em\">\n            65\n            </text>\n          </g>\n        </g>\n        <g transform=\"translate(255.19679603999134 0.0 ) \">\n          <line stroke-width=\"1.0\" stroke=\"rgb(71,71,71)\" stroke-opacity=\"1.0\" x2=\"0.0\" y2=\"4.0\">\n          </line>\n          <g transform=\"translate(0.0 7.0 ) \">\n            <text class=\"axis-text-x\" text-anchor=\"middle\" dy=\"0.7em\">\n            70\n            </text>\n          </g>\n        </g>\n        <g transform=\"translate(323.24927498398904 0.0 ) \">\n          <line stroke-width=\"1.0\" stroke=\"rgb(71,71,71)\" stroke-opacity=\"1.0\" x2=\"0.0\" y2=\"4.0\">\n          </line>\n          <g transform=\"translate(0.0 7.0 ) \">\n            <text class=\"axis-text-x\" text-anchor=\"middle\" dy=\"0.7em\">\n            75\n            </text>\n          </g>\n        </g>\n        <g transform=\"translate(391.3017539279866 0.0 ) \">\n          <line stroke-width=\"1.0\" stroke=\"rgb(71,71,71)\" stroke-opacity=\"1.0\" x2=\"0.0\" y2=\"4.0\">\n          </line>\n          <g transform=\"translate(0.0 7.0 ) \">\n            <text class=\"axis-text-x\" text-anchor=\"middle\" dy=\"0.7em\">\n            80\n            </text>\n          </g>\n        </g>\n        <g transform=\"translate(459.35423287198444 0.0 ) \">\n          <line stroke-width=\"1.0\" stroke=\"rgb(71,71,71)\" stroke-opacity=\"1.0\" x2=\"0.0\" y2=\"4.0\">\n          </line>\n          <g transform=\"translate(0.0 7.0 ) \">\n            <text class=\"axis-text-x\" text-anchor=\"middle\" dy=\"0.7em\">\n            85\n            </text>\n          </g>\n        </g>\n        <line x1=\"0.0\" y1=\"0.0\" x2=\"524.0040878687822\" y2=\"0.0\" stroke-width=\"1.0\" stroke=\"rgb(71,71,71)\" stroke-opacity=\"1.0\">\n        </line>\n      </g>\n      <g transform=\"translate(42.99591213121782 0.0 ) \">\n        <line x1=\"0.0\" y1=\"312.2709118838151\" x2=\"524.0040878687822\" y2=\"312.2709118838151\" stroke=\"rgb(233,233,233)\" stroke-opacity=\"1.0\" stroke-width=\"1.0\">\n        </line>\n        <line x1=\"0.0\" y1=\"264.2329283619606\" x2=\"524.0040878687822\" y2=\"264.2329283619606\" stroke=\"rgb(233,233,233)\" stroke-opacity=\"1.0\" stroke-width=\"1.0\">\n        </line>\n        <line x1=\"0.0\" y1=\"216.1949448401061\" x2=\"524.0040878687822\" y2=\"216.1949448401061\" stroke=\"rgb(233,233,233)\" stroke-opacity=\"1.0\" stroke-width=\"1.0\">\n        </line>\n        <line x1=\"0.0\" y1=\"168.1569613182516\" x2=\"524.0040878687822\" y2=\"168.1569613182516\" stroke=\"rgb(233,233,233)\" stroke-opacity=\"1.0\" stroke-width=\"1.0\">\n        </line>\n        <line x1=\"0.0\" y1=\"120.11897779639713\" x2=\"524.0040878687822\" y2=\"120.11897779639713\" stroke=\"rgb(233,233,233)\" stroke-opacity=\"1.0\" stroke-width=\"1.0\">\n        </line>\n        <line x1=\"0.0\" y1=\"72.0809942745426\" x2=\"524.0040878687822\" y2=\"72.0809942745426\" stroke=\"rgb(233,233,233)\" stroke-opacity=\"1.0\" stroke-width=\"1.0\">\n        </line>\n        <line x1=\"0.0\" y1=\"24.043010752688133\" x2=\"524.0040878687822\" y2=\"24.043010752688133\" stroke=\"rgb(233,233,233)\" stroke-opacity=\"1.0\" stroke-width=\"1.0\">\n        </line>\n        <g transform=\"translate(0.0 312.2709118838151 ) \">\n          <g transform=\"translate(-3.0 0.0 ) \">\n            <text class=\"axis-text-y\" text-anchor=\"end\" dy=\"0.35em\">\n            400\n            </text>\n          </g>\n        </g>\n        <g transform=\"translate(0.0 264.2329283619606 ) \">\n          <g transform=\"translate(-3.0 0.0 ) \">\n            <text class=\"axis-text-y\" text-anchor=\"end\" dy=\"0.35em\">\n            600\n            </text>\n          </g>\n        </g>\n        <g transform=\"translate(0.0 216.1949448401061 ) \">\n          <g transform=\"translate(-3.0 0.0 ) \">\n            <text class=\"axis-text-y\" text-anchor=\"end\" dy=\"0.35em\">\n            800\n            </text>\n          </g>\n        </g>\n        <g transform=\"translate(0.0 168.1569613182516 ) \">\n          <g transform=\"translate(-3.0 0.0 ) \">\n            <text class=\"axis-text-y\" text-anchor=\"end\" dy=\"0.35em\">\n            1,000\n            </text>\n          </g>\n        </g>\n        <g transform=\"translate(0.0 120.11897779639713 ) \">\n          <g transform=\"translate(-3.0 0.0 ) \">\n            <text class=\"axis-text-y\" text-anchor=\"end\" dy=\"0.35em\">\n            1,200\n            </text>\n          </g>\n        </g>\n        <g transform=\"translate(0.0 72.0809942745426 ) \">\n          <g transform=\"translate(-3.0 0.0 ) \">\n            <text class=\"axis-text-y\" text-anchor=\"end\" dy=\"0.35em\">\n            1,400\n            </text>\n          </g>\n        </g>\n        <g transform=\"translate(0.0 24.043010752688133 ) \">\n          <g transform=\"translate(-3.0 0.0 ) \">\n            <text class=\"axis-text-y\" text-anchor=\"end\" dy=\"0.35em\">\n            1,600\n            </text>\n          </g>\n        </g>\n      </g>\n      <g transform=\"translate(42.99591213121782 0.0 ) \" clip-path=\"url(#cTwRbz6)\" clip-bounds-jfx=\"[rect (0.0, 0.0), (524.0040878687822, 344.0)]\">\n        <defs>\n          <clipPath id=\"cTwRbz6\">\n            <rect x=\"0.0\" y=\"0.0\" width=\"524.0040878687822\" height=\"344.0\">\n            </rect>\n          </clipPath>\n        </defs>\n        <g>\n          <path d=\"M23.818367630399166 328.3636363636364 L23.818367630399166 328.3636363636364 L282.4177876175904 98.74207512917184 L432.13324129438536 15.63636363636357 L500.18572023838294 40.37592515011863 \" fill=\"none\" stroke-width=\"1.0\" stroke=\"rgb(17,142,216)\" stroke-opacity=\"1.0\">\n          </path>\n        </g>\n      </g>\n    </g>\n    <g transform=\"translate(14.5 182.0 ) rotate(-90.0 ) \">\n      <text class=\"axis-title-y\" y=\"0.0\" text-anchor=\"middle\">\n      y\n      </text>\n    </g>\n    <g transform=\"translate(327.99795606560895 391.5 ) \">\n      <text class=\"axis-title-x\" y=\"0.0\" text-anchor=\"middle\">\n      x\n      </text>\n    </g>\n  </g>\n  <g id=\"dtRZRMI\">\n  </g>\n</svg>\n        <script>document.getElementById(\"0e9ee586-e03c-489c-aa23-a1d323f31e67\").style.display = \"none\";</script>",
      "application/plot+json": {
       "output_type": "lets_plot_spec",
       "output": {
        "mapping": {},
        "data": {},
        "kind": "plot",
        "scales": [
         {
          "aesthetic": "x",
          "limits": [
           null,
           null
          ]
         },
         {
          "aesthetic": "y",
          "limits": [
           null,
           null
          ]
         }
        ],
        "layers": [
         {
          "mapping": {
           "x": "x",
           "y": "y"
          },
          "stat": "identity",
          "data": {
           "x": [
            53.0,
            83.0,
            72.0,
            88.0
           ],
           "y": [
            333.0,
            1635.0,
            1289.0,
            1532.0
           ]
          },
          "sampling": "none",
          "position": "identity",
          "geom": "line"
         }
        ]
       },
       "apply_color_scheme": true,
       "swing_enabled": true
      }
     },
     "execution_count": 10,
     "metadata": {},
     "output_type": "execute_result"
    }
   ],
   "source": [
    "plot {\n",
    "  line { \n",
    "    x(races.map { it.time })\n",
    "    y(races.map { it.record })\n",
    "  }\n",
    "}"
   ],
   "metadata": {
    "collapsed": false,
    "ExecuteTime": {
     "end_time": "2024-01-08T12:17:32.892886Z",
     "start_time": "2024-01-08T12:17:32.478825Z"
    }
   }
  },
  {
   "cell_type": "code",
   "execution_count": 11,
   "outputs": [],
   "source": [
    "val timesToDistance = races.map { \n",
    "    val possibleDelay = 0..it.time\n",
    "    possibleDelay.map { delay ->\n",
    "        val speed = delay * 1\n",
    "        val remainingTime = it.time - delay\n",
    "        delay to remainingTime * speed\n",
    "     }\n",
    " }"
   ],
   "metadata": {
    "collapsed": false,
    "ExecuteTime": {
     "end_time": "2024-01-08T12:17:33.039007Z",
     "start_time": "2024-01-08T12:17:32.887608Z"
    }
   }
  },
  {
   "cell_type": "code",
   "execution_count": 12,
   "outputs": [
    {
     "data": {
      "text/plain": "    first second\n  0     0      0\n  1     1     52\n  2     2    102\n  3     3    150\n  4     4    196\n  5     5    240\n  6     6    282\n  7     7    322\n  8     8    360\n  9     9    396\n 10    10    430\n 11    11    462\n 12    12    492\n 13    13    520\n 14    14    546\n 15    15    570\n 16    16    592\n 17    17    612\n 18    18    630\n 19    19    646\n...\n"
     },
     "execution_count": 12,
     "metadata": {},
     "output_type": "execute_result"
    }
   ],
   "source": [
    "timesToDistance[0].toDataFrame()"
   ],
   "metadata": {
    "collapsed": false,
    "ExecuteTime": {
     "end_time": "2024-01-08T12:17:33.040364Z",
     "start_time": "2024-01-08T12:17:32.969853Z"
    }
   }
  },
  {
   "cell_type": "code",
   "execution_count": 18,
   "outputs": [
    {
     "data": {
      "text/html": "            <script type=\"text/javascript\" data-lets-plot-script=\"library\" src=\"https://cdn.jsdelivr.net/gh/JetBrains/lets-plot@v3.1.0/js-package/distr/lets-plot.min.js\"></script>    \n               <div id=\"uBdwFd\"></div>\n   <script type=\"text/javascript\" data-lets-plot-script=\"plot\">\n       var plotSpec={\n\"mapping\":{\n},\n\"data\":{\n},\n\"kind\":\"plot\",\n\"scales\":[{\n\"aesthetic\":\"x\",\n\"limits\":[null,null]\n},{\n\"aesthetic\":\"y\",\n\"limits\":[null,null]\n},{\n\"aesthetic\":\"x\",\n\"limits\":[null,null]\n},{\n\"aesthetic\":\"y\",\n\"limits\":[null,null]\n},{\n\"aesthetic\":\"x\",\n\"limits\":[null,null]\n},{\n\"aesthetic\":\"y\",\n\"limits\":[null,null]\n},{\n\"aesthetic\":\"x\",\n\"limits\":[null,null]\n},{\n\"aesthetic\":\"y\",\n\"limits\":[null,null]\n}],\n\"layers\":[{\n\"mapping\":{\n\"x\":\"time holding the button\",\n\"y\":\"distance\"\n},\n\"stat\":\"identity\",\n\"data\":{\n\"distance\":[0.0,52.0,102.0,150.0,196.0,240.0,282.0,322.0,360.0,396.0,430.0,462.0,492.0,520.0,546.0,570.0,592.0,612.0,630.0,646.0,660.0,672.0,682.0,690.0,696.0,700.0,702.0,702.0,700.0,696.0,690.0,682.0,672.0,660.0,646.0,630.0,612.0,592.0,570.0,546.0,520.0,492.0,462.0,430.0,396.0,360.0,322.0,282.0,240.0,196.0,150.0,102.0,52.0,0.0],\n\"time holding the button\":[0.0,1.0,2.0,3.0,4.0,5.0,6.0,7.0,8.0,9.0,10.0,11.0,12.0,13.0,14.0,15.0,16.0,17.0,18.0,19.0,20.0,21.0,22.0,23.0,24.0,25.0,26.0,27.0,28.0,29.0,30.0,31.0,32.0,33.0,34.0,35.0,36.0,37.0,38.0,39.0,40.0,41.0,42.0,43.0,44.0,45.0,46.0,47.0,48.0,49.0,50.0,51.0,52.0,53.0]\n},\n\"color\":\"#2FBDB4\",\n\"sampling\":\"none\",\n\"position\":\"identity\",\n\"geom\":\"line\"\n},{\n\"mapping\":{\n},\n\"stat\":\"identity\",\n\"yintercept\":333.0,\n\"color\":\"#2FBDB4\",\n\"linetype\":\"dashed\",\n\"sampling\":\"none\",\n\"alpha\":0.9,\n\"position\":\"identity\",\n\"geom\":\"hline\",\n\"data\":{\n}\n},{\n\"mapping\":{\n\"x\":\"time holding the button\",\n\"y\":\"distance\"\n},\n\"stat\":\"identity\",\n\"data\":{\n\"distance\":[0.0,82.0,162.0,240.0,316.0,390.0,462.0,532.0,600.0,666.0,730.0,792.0,852.0,910.0,966.0,1020.0,1072.0,1122.0,1170.0,1216.0,1260.0,1302.0,1342.0,1380.0,1416.0,1450.0,1482.0,1512.0,1540.0,1566.0,1590.0,1612.0,1632.0,1650.0,1666.0,1680.0,1692.0,1702.0,1710.0,1716.0,1720.0,1722.0,1722.0,1720.0,1716.0,1710.0,1702.0,1692.0,1680.0,1666.0,1650.0,1632.0,1612.0,1590.0,1566.0,1540.0,1512.0,1482.0,1450.0,1416.0,1380.0,1342.0,1302.0,1260.0,1216.0,1170.0,1122.0,1072.0,1020.0,966.0,910.0,852.0,792.0,730.0,666.0,600.0,532.0,462.0,390.0,316.0,240.0,162.0,82.0,0.0],\n\"time holding the button\":[0.0,1.0,2.0,3.0,4.0,5.0,6.0,7.0,8.0,9.0,10.0,11.0,12.0,13.0,14.0,15.0,16.0,17.0,18.0,19.0,20.0,21.0,22.0,23.0,24.0,25.0,26.0,27.0,28.0,29.0,30.0,31.0,32.0,33.0,34.0,35.0,36.0,37.0,38.0,39.0,40.0,41.0,42.0,43.0,44.0,45.0,46.0,47.0,48.0,49.0,50.0,51.0,52.0,53.0,54.0,55.0,56.0,57.0,58.0,59.0,60.0,61.0,62.0,63.0,64.0,65.0,66.0,67.0,68.0,69.0,70.0,71.0,72.0,73.0,74.0,75.0,76.0,77.0,78.0,79.0,80.0,81.0,82.0,83.0]\n},\n\"color\":\"#944AD8\",\n\"sampling\":\"none\",\n\"position\":\"identity\",\n\"geom\":\"line\"\n},{\n\"mapping\":{\n},\n\"stat\":\"identity\",\n\"yintercept\":1635.0,\n\"color\":\"#944AD8\",\n\"linetype\":\"dashed\",\n\"sampling\":\"none\",\n\"alpha\":0.9,\n\"position\":\"identity\",\n\"geom\":\"hline\",\n\"data\":{\n}\n},{\n\"mapping\":{\n\"x\":\"time holding the button\",\n\"y\":\"distance\"\n},\n\"stat\":\"identity\",\n\"data\":{\n\"distance\":[0.0,71.0,140.0,207.0,272.0,335.0,396.0,455.0,512.0,567.0,620.0,671.0,720.0,767.0,812.0,855.0,896.0,935.0,972.0,1007.0,1040.0,1071.0,1100.0,1127.0,1152.0,1175.0,1196.0,1215.0,1232.0,1247.0,1260.0,1271.0,1280.0,1287.0,1292.0,1295.0,1296.0,1295.0,1292.0,1287.0,1280.0,1271.0,1260.0,1247.0,1232.0,1215.0,1196.0,1175.0,1152.0,1127.0,1100.0,1071.0,1040.0,1007.0,972.0,935.0,896.0,855.0,812.0,767.0,720.0,671.0,620.0,567.0,512.0,455.0,396.0,335.0,272.0,207.0,140.0,71.0,0.0],\n\"time holding the button\":[0.0,1.0,2.0,3.0,4.0,5.0,6.0,7.0,8.0,9.0,10.0,11.0,12.0,13.0,14.0,15.0,16.0,17.0,18.0,19.0,20.0,21.0,22.0,23.0,24.0,25.0,26.0,27.0,28.0,29.0,30.0,31.0,32.0,33.0,34.0,35.0,36.0,37.0,38.0,39.0,40.0,41.0,42.0,43.0,44.0,45.0,46.0,47.0,48.0,49.0,50.0,51.0,52.0,53.0,54.0,55.0,56.0,57.0,58.0,59.0,60.0,61.0,62.0,63.0,64.0,65.0,66.0,67.0,68.0,69.0,70.0,71.0,72.0]\n},\n\"color\":\"#3ECCC1\",\n\"sampling\":\"none\",\n\"position\":\"identity\",\n\"geom\":\"line\"\n},{\n\"mapping\":{\n},\n\"stat\":\"identity\",\n\"yintercept\":1289.0,\n\"color\":\"#3ECCC1\",\n\"linetype\":\"dashed\",\n\"sampling\":\"none\",\n\"alpha\":0.9,\n\"position\":\"identity\",\n\"geom\":\"hline\",\n\"data\":{\n}\n},{\n\"mapping\":{\n\"x\":\"time holding the button\",\n\"y\":\"distance\"\n},\n\"stat\":\"identity\",\n\"data\":{\n\"distance\":[0.0,87.0,172.0,255.0,336.0,415.0,492.0,567.0,640.0,711.0,780.0,847.0,912.0,975.0,1036.0,1095.0,1152.0,1207.0,1260.0,1311.0,1360.0,1407.0,1452.0,1495.0,1536.0,1575.0,1612.0,1647.0,1680.0,1711.0,1740.0,1767.0,1792.0,1815.0,1836.0,1855.0,1872.0,1887.0,1900.0,1911.0,1920.0,1927.0,1932.0,1935.0,1936.0,1935.0,1932.0,1927.0,1920.0,1911.0,1900.0,1887.0,1872.0,1855.0,1836.0,1815.0,1792.0,1767.0,1740.0,1711.0,1680.0,1647.0,1612.0,1575.0,1536.0,1495.0,1452.0,1407.0,1360.0,1311.0,1260.0,1207.0,1152.0,1095.0,1036.0,975.0,912.0,847.0,780.0,711.0,640.0,567.0,492.0,415.0,336.0,255.0,172.0,87.0,0.0],\n\"time holding the button\":[0.0,1.0,2.0,3.0,4.0,5.0,6.0,7.0,8.0,9.0,10.0,11.0,12.0,13.0,14.0,15.0,16.0,17.0,18.0,19.0,20.0,21.0,22.0,23.0,24.0,25.0,26.0,27.0,28.0,29.0,30.0,31.0,32.0,33.0,34.0,35.0,36.0,37.0,38.0,39.0,40.0,41.0,42.0,43.0,44.0,45.0,46.0,47.0,48.0,49.0,50.0,51.0,52.0,53.0,54.0,55.0,56.0,57.0,58.0,59.0,60.0,61.0,62.0,63.0,64.0,65.0,66.0,67.0,68.0,69.0,70.0,71.0,72.0,73.0,74.0,75.0,76.0,77.0,78.0,79.0,80.0,81.0,82.0,83.0,84.0,85.0,86.0,87.0,88.0]\n},\n\"color\":\"#64949A\",\n\"sampling\":\"none\",\n\"position\":\"identity\",\n\"geom\":\"line\"\n},{\n\"mapping\":{\n},\n\"stat\":\"identity\",\n\"yintercept\":1532.0,\n\"color\":\"#64949A\",\n\"linetype\":\"dashed\",\n\"sampling\":\"none\",\n\"alpha\":0.9,\n\"position\":\"identity\",\n\"geom\":\"hline\",\n\"data\":{\n}\n}]\n};\n       var plotContainer = document.getElementById(\"uBdwFd\");\n       LetsPlot.buildPlotFromProcessedSpecs(plotSpec, -1, -1, plotContainer);\n   </script>            \n        <svg id=99d489f9-a5b2-4bfd-aed0-5851ba668988 xmlns=\"http://www.w3.org/2000/svg\" xmlns:xlink=\"http://www.w3.org/1999/xlink\" class=\"plt-container\" width=\"600.0\" height=\"400.0\">\n  <style type=\"text/css\">\n  .plt-container {\n   font-family: Lucida Grande, sans-serif;\n   user-select: none;\n   -webkit-user-select: none;\n   -moz-user-select: none;\n   -ms-user-select: none;\n}\ntext {\n   text-rendering: optimizeLegibility;\n}\n#p3gXiR3 .plot-title {\n   fill: #474747;\n   font-family: Lucida Grande, sans-serif;\n   font-size: 16.0px;\n   font-weight: normal;\n   font-style: normal;   \n}\n#p3gXiR3 .plot-subtitle {\n   fill: #474747;\n   font-family: Lucida Grande, sans-serif;\n   font-size: 15.0px;\n   font-weight: normal;\n   font-style: normal;   \n}\n#p3gXiR3 .plot-caption {\n   fill: #474747;\n   font-family: Lucida Grande, sans-serif;\n   font-size: 13.0px;\n   font-weight: normal;\n   font-style: normal;   \n}\n#p3gXiR3 .legend-title {\n   fill: #474747;\n   font-family: Lucida Grande, sans-serif;\n   font-size: 15.0px;\n   font-weight: normal;\n   font-style: normal;   \n}\n#p3gXiR3 .legend-item {\n   fill: #474747;\n   font-family: Lucida Grande, sans-serif;\n   font-size: 13.0px;\n   font-weight: normal;\n   font-style: normal;   \n}\n#p3gXiR3 .axis-title-x {\n   fill: #474747;\n   font-family: Lucida Grande, sans-serif;\n   font-size: 15.0px;\n   font-weight: normal;\n   font-style: normal;   \n}\n#p3gXiR3 .axis-text-x {\n   fill: #474747;\n   font-family: Lucida Grande, sans-serif;\n   font-size: 13.0px;\n   font-weight: normal;\n   font-style: normal;   \n}\n#dOdMvqd .axis-tooltip-text-x {\n   fill: #ffffff;\n   font-family: Lucida Grande, sans-serif;\n   font-size: 13.0px;\n   font-weight: normal;\n   font-style: normal;   \n}\n#p3gXiR3 .axis-title-y {\n   fill: #474747;\n   font-family: Lucida Grande, sans-serif;\n   font-size: 15.0px;\n   font-weight: normal;\n   font-style: normal;   \n}\n#p3gXiR3 .axis-text-y {\n   fill: #474747;\n   font-family: Lucida Grande, sans-serif;\n   font-size: 13.0px;\n   font-weight: normal;\n   font-style: normal;   \n}\n#dOdMvqd .axis-tooltip-text-y {\n   fill: #ffffff;\n   font-family: Lucida Grande, sans-serif;\n   font-size: 13.0px;\n   font-weight: normal;\n   font-style: normal;   \n}\n#p3gXiR3 .facet-strip-text-x {\n   fill: #474747;\n   font-family: Lucida Grande, sans-serif;\n   font-size: 13.0px;\n   font-weight: normal;\n   font-style: normal;   \n}\n#p3gXiR3 .facet-strip-text-y {\n   fill: #474747;\n   font-family: Lucida Grande, sans-serif;\n   font-size: 13.0px;\n   font-weight: normal;\n   font-style: normal;   \n}\n#dOdMvqd .tooltip-text {\n   fill: #474747;\n   font-family: Lucida Grande, sans-serif;\n   font-size: 13.0px;\n   font-weight: normal;\n   font-style: normal;   \n}\n#dOdMvqd .tooltip-title {\n   fill: #474747;\n   font-family: Lucida Grande, sans-serif;\n   font-size: 13.0px;\n   font-weight: bold;\n   font-style: normal;   \n}\n#dOdMvqd .tooltip-label {\n   fill: #474747;\n   font-family: Lucida Grande, sans-serif;\n   font-size: 13.0px;\n   font-weight: bold;\n   font-style: normal;   \n}\n\n  </style>\n  <g id=\"p3gXiR3\">\n    <rect x=\"0.0\" y=\"0.0\" height=\"400.0\" width=\"600.0\" stroke=\"rgb(71,71,71)\" stroke-opacity=\"1.0\" stroke-width=\"0.0\" fill=\"rgb(255,255,255)\" fill-opacity=\"1.0\">\n    </rect>\n    <g transform=\"translate(23.0 10.0 ) \">\n      <g transform=\"translate(42.99591213121782 344.0 ) \">\n        <line x1=\"23.81836763039919\" y1=\"-0.0\" x2=\"23.81836763039919\" y2=\"-344.0\" stroke=\"rgb(233,233,233)\" stroke-opacity=\"1.0\" stroke-width=\"1.0\">\n        </line>\n        <line x1=\"77.95102133585189\" y1=\"-0.0\" x2=\"77.95102133585189\" y2=\"-344.0\" stroke=\"rgb(233,233,233)\" stroke-opacity=\"1.0\" stroke-width=\"1.0\">\n        </line>\n        <line x1=\"132.0836750413046\" y1=\"-0.0\" x2=\"132.0836750413046\" y2=\"-344.0\" stroke=\"rgb(233,233,233)\" stroke-opacity=\"1.0\" stroke-width=\"1.0\">\n        </line>\n        <line x1=\"186.21632874675728\" y1=\"-0.0\" x2=\"186.21632874675728\" y2=\"-344.0\" stroke=\"rgb(233,233,233)\" stroke-opacity=\"1.0\" stroke-width=\"1.0\">\n        </line>\n        <line x1=\"240.34898245220998\" y1=\"-0.0\" x2=\"240.34898245220998\" y2=\"-344.0\" stroke=\"rgb(233,233,233)\" stroke-opacity=\"1.0\" stroke-width=\"1.0\">\n        </line>\n        <line x1=\"294.48163615766265\" y1=\"-0.0\" x2=\"294.48163615766265\" y2=\"-344.0\" stroke=\"rgb(233,233,233)\" stroke-opacity=\"1.0\" stroke-width=\"1.0\">\n        </line>\n        <line x1=\"348.61428986311535\" y1=\"-0.0\" x2=\"348.61428986311535\" y2=\"-344.0\" stroke=\"rgb(233,233,233)\" stroke-opacity=\"1.0\" stroke-width=\"1.0\">\n        </line>\n        <line x1=\"402.74694356856804\" y1=\"-0.0\" x2=\"402.74694356856804\" y2=\"-344.0\" stroke=\"rgb(233,233,233)\" stroke-opacity=\"1.0\" stroke-width=\"1.0\">\n        </line>\n        <line x1=\"456.87959727402074\" y1=\"-0.0\" x2=\"456.87959727402074\" y2=\"-344.0\" stroke=\"rgb(233,233,233)\" stroke-opacity=\"1.0\" stroke-width=\"1.0\">\n        </line>\n        <line x1=\"511.0122509794735\" y1=\"-0.0\" x2=\"511.0122509794735\" y2=\"-344.0\" stroke=\"rgb(233,233,233)\" stroke-opacity=\"1.0\" stroke-width=\"1.0\">\n        </line>\n        <g transform=\"translate(23.81836763039919 0.0 ) \">\n          <line stroke-width=\"1.0\" stroke=\"rgb(71,71,71)\" stroke-opacity=\"1.0\" x2=\"0.0\" y2=\"4.0\">\n          </line>\n          <g transform=\"translate(0.0 7.0 ) \">\n            <text class=\"axis-text-x\" text-anchor=\"middle\" dy=\"0.7em\">\n            0\n            </text>\n          </g>\n        </g>\n        <g transform=\"translate(77.95102133585189 0.0 ) \">\n          <line stroke-width=\"1.0\" stroke=\"rgb(71,71,71)\" stroke-opacity=\"1.0\" x2=\"0.0\" y2=\"4.0\">\n          </line>\n          <g transform=\"translate(0.0 7.0 ) \">\n            <text class=\"axis-text-x\" text-anchor=\"middle\" dy=\"0.7em\">\n            10\n            </text>\n          </g>\n        </g>\n        <g transform=\"translate(132.0836750413046 0.0 ) \">\n          <line stroke-width=\"1.0\" stroke=\"rgb(71,71,71)\" stroke-opacity=\"1.0\" x2=\"0.0\" y2=\"4.0\">\n          </line>\n          <g transform=\"translate(0.0 7.0 ) \">\n            <text class=\"axis-text-x\" text-anchor=\"middle\" dy=\"0.7em\">\n            20\n            </text>\n          </g>\n        </g>\n        <g transform=\"translate(186.21632874675728 0.0 ) \">\n          <line stroke-width=\"1.0\" stroke=\"rgb(71,71,71)\" stroke-opacity=\"1.0\" x2=\"0.0\" y2=\"4.0\">\n          </line>\n          <g transform=\"translate(0.0 7.0 ) \">\n            <text class=\"axis-text-x\" text-anchor=\"middle\" dy=\"0.7em\">\n            30\n            </text>\n          </g>\n        </g>\n        <g transform=\"translate(240.34898245220998 0.0 ) \">\n          <line stroke-width=\"1.0\" stroke=\"rgb(71,71,71)\" stroke-opacity=\"1.0\" x2=\"0.0\" y2=\"4.0\">\n          </line>\n          <g transform=\"translate(0.0 7.0 ) \">\n            <text class=\"axis-text-x\" text-anchor=\"middle\" dy=\"0.7em\">\n            40\n            </text>\n          </g>\n        </g>\n        <g transform=\"translate(294.48163615766265 0.0 ) \">\n          <line stroke-width=\"1.0\" stroke=\"rgb(71,71,71)\" stroke-opacity=\"1.0\" x2=\"0.0\" y2=\"4.0\">\n          </line>\n          <g transform=\"translate(0.0 7.0 ) \">\n            <text class=\"axis-text-x\" text-anchor=\"middle\" dy=\"0.7em\">\n            50\n            </text>\n          </g>\n        </g>\n        <g transform=\"translate(348.61428986311535 0.0 ) \">\n          <line stroke-width=\"1.0\" stroke=\"rgb(71,71,71)\" stroke-opacity=\"1.0\" x2=\"0.0\" y2=\"4.0\">\n          </line>\n          <g transform=\"translate(0.0 7.0 ) \">\n            <text class=\"axis-text-x\" text-anchor=\"middle\" dy=\"0.7em\">\n            60\n            </text>\n          </g>\n        </g>\n        <g transform=\"translate(402.74694356856804 0.0 ) \">\n          <line stroke-width=\"1.0\" stroke=\"rgb(71,71,71)\" stroke-opacity=\"1.0\" x2=\"0.0\" y2=\"4.0\">\n          </line>\n          <g transform=\"translate(0.0 7.0 ) \">\n            <text class=\"axis-text-x\" text-anchor=\"middle\" dy=\"0.7em\">\n            70\n            </text>\n          </g>\n        </g>\n        <g transform=\"translate(456.87959727402074 0.0 ) \">\n          <line stroke-width=\"1.0\" stroke=\"rgb(71,71,71)\" stroke-opacity=\"1.0\" x2=\"0.0\" y2=\"4.0\">\n          </line>\n          <g transform=\"translate(0.0 7.0 ) \">\n            <text class=\"axis-text-x\" text-anchor=\"middle\" dy=\"0.7em\">\n            80\n            </text>\n          </g>\n        </g>\n        <g transform=\"translate(511.0122509794735 0.0 ) \">\n          <line stroke-width=\"1.0\" stroke=\"rgb(71,71,71)\" stroke-opacity=\"1.0\" x2=\"0.0\" y2=\"4.0\">\n          </line>\n          <g transform=\"translate(0.0 7.0 ) \">\n            <text class=\"axis-text-x\" text-anchor=\"middle\" dy=\"0.7em\">\n            90\n            </text>\n          </g>\n        </g>\n        <line x1=\"0.0\" y1=\"0.0\" x2=\"524.0040878687822\" y2=\"0.0\" stroke-width=\"1.0\" stroke=\"rgb(71,71,71)\" stroke-opacity=\"1.0\">\n        </line>\n      </g>\n      <g transform=\"translate(42.99591213121782 0.0 ) \">\n        <line x1=\"0.0\" y1=\"328.3636363636364\" x2=\"524.0040878687822\" y2=\"328.3636363636364\" stroke=\"rgb(233,233,233)\" stroke-opacity=\"1.0\" stroke-width=\"1.0\">\n        </line>\n        <line x1=\"0.0\" y1=\"247.59729526671674\" x2=\"524.0040878687822\" y2=\"247.59729526671674\" stroke=\"rgb(233,233,233)\" stroke-opacity=\"1.0\" stroke-width=\"1.0\">\n        </line>\n        <line x1=\"0.0\" y1=\"166.83095416979714\" x2=\"524.0040878687822\" y2=\"166.83095416979714\" stroke=\"rgb(233,233,233)\" stroke-opacity=\"1.0\" stroke-width=\"1.0\">\n        </line>\n        <line x1=\"0.0\" y1=\"86.06461307287753\" x2=\"524.0040878687822\" y2=\"86.06461307287753\" stroke=\"rgb(233,233,233)\" stroke-opacity=\"1.0\" stroke-width=\"1.0\">\n        </line>\n        <g transform=\"translate(0.0 328.3636363636364 ) \">\n          <g transform=\"translate(-3.0 0.0 ) \">\n            <text class=\"axis-text-y\" text-anchor=\"end\" dy=\"0.35em\">\n            0\n            </text>\n          </g>\n        </g>\n        <g transform=\"translate(0.0 247.59729526671674 ) \">\n          <g transform=\"translate(-3.0 0.0 ) \">\n            <text class=\"axis-text-y\" text-anchor=\"end\" dy=\"0.35em\">\n            500\n            </text>\n          </g>\n        </g>\n        <g transform=\"translate(0.0 166.83095416979714 ) \">\n          <g transform=\"translate(-3.0 0.0 ) \">\n            <text class=\"axis-text-y\" text-anchor=\"end\" dy=\"0.35em\">\n            1,000\n            </text>\n          </g>\n        </g>\n        <g transform=\"translate(0.0 86.06461307287753 ) \">\n          <g transform=\"translate(-3.0 0.0 ) \">\n            <text class=\"axis-text-y\" text-anchor=\"end\" dy=\"0.35em\">\n            1,500\n            </text>\n          </g>\n        </g>\n        <g transform=\"translate(0.0 5.298271975957903 ) \">\n          <g transform=\"translate(-3.0 0.0 ) \">\n            <text class=\"axis-text-y\" text-anchor=\"end\" dy=\"0.35em\">\n            2,000\n            </text>\n          </g>\n        </g>\n      </g>\n      <g transform=\"translate(42.99591213121782 0.0 ) \" clip-path=\"url(#ca1EJij)\" clip-bounds-jfx=\"[rect (0.0, 0.0), (524.0040878687822, 344.0)]\">\n        <defs>\n          <clipPath id=\"ca1EJij\">\n            <rect x=\"0.0\" y=\"0.0\" width=\"524.0040878687822\" height=\"344.0\">\n            </rect>\n          </clipPath>\n        </defs>\n        <g>\n          <path d=\"M23.81836763039919 328.3636363636364 L23.81836763039919 328.3636363636364 L29.231633000944463 319.96393688955675 L34.64489837148973 311.8873027798648 L40.058163742035006 304.13373403456046 L45.47142911258027 296.7032306536439 L50.88469448312554 289.595792637115 L56.29795985367082 282.8114199849737 L61.71122522421608 276.35011269722014 L67.12449059476135 270.21187077385423 L72.53775596530662 264.39669421487605 L77.95102133585189 258.9045830202855 L83.36428670639717 253.73553719008265 L88.77755207694244 248.88955672426746 L94.1908174474877 244.36664162283998 L99.60408281803298 240.16679188580014 L105.01734818857824 236.290007513148 L110.43061355912351 232.73628850488353 L115.84387892966879 229.50563486100677 L121.25714430021405 226.59804658151765 L126.67040967075933 224.01352366641623 L132.0836750413046 221.75206611570246 L137.49694041184986 219.81367392937642 L142.91020578239514 218.198347107438 L148.32347115294039 216.9060856498873 L153.7367365234857 215.93688955672428 L159.15000189403094 215.2907588279489 L164.5632672645762 214.96769346356123 L169.9765326351215 214.96769346356123 L175.38979800566676 215.2907588279489 L180.80306337621204 215.93688955672428 L186.21632874675728 216.9060856498873 L191.62959411730256 218.198347107438 L197.04285948784783 219.81367392937642 L202.4561248583931 221.75206611570246 L207.86939022893839 224.01352366641623 L213.28265559948363 226.59804658151765 L218.6959209700289 229.50563486100677 L224.10918634057418 232.73628850488353 L229.52245171111946 236.290007513148 L234.93571708166473 240.16679188580014 L240.34898245220998 244.36664162283998 L245.76224782275526 248.88955672426746 L251.17551319330053 253.73553719008265 L256.5887785638458 258.9045830202855 L262.00204393439105 264.39669421487605 L267.41530930493633 270.21187077385423 L272.8285746754816 276.35011269722014 L278.2418400460269 282.8114199849737 L283.65510541657216 289.595792637115 L289.0683707871174 296.7032306536439 L294.48163615766265 304.13373403456046 L299.8949015282079 311.8873027798648 L305.3081668987532 319.96393688955675 L310.7214322692985 328.3636363636364 \" fill=\"none\" stroke-width=\"1.0\" stroke=\"rgb(47,189,180)\" stroke-opacity=\"1.0\">\n          </path>\n        </g>\n      </g>\n      <g transform=\"translate(42.99591213121782 0.0 ) \" clip-path=\"url(#cXbDhsi)\" clip-bounds-jfx=\"[rect (0.0, 0.0), (524.0040878687822, 344.0)]\">\n        <defs>\n          <clipPath id=\"cXbDhsi\">\n            <rect x=\"0.0\" y=\"0.0\" width=\"524.0040878687822\" height=\"344.0\">\n            </rect>\n          </clipPath>\n        </defs>\n        <line x1=\"0.0\" y1=\"274.5732531930879\" x2=\"524.0040878687822\" y2=\"274.5732531930879\" stroke=\"rgb(47,189,180)\" stroke-opacity=\"0.9\" fill=\"rgb(17,142,216)\" fill-opacity=\"0.9\" stroke-width=\"1.0\" stroke-dasharray=\"4.3,4.3\">\n        </line>\n      </g>\n      <g transform=\"translate(42.99591213121782 0.0 ) \" clip-path=\"url(#cbgXtQj)\" clip-bounds-jfx=\"[rect (0.0, 0.0), (524.0040878687822, 344.0)]\">\n        <defs>\n          <clipPath id=\"cbgXtQj\">\n            <rect x=\"0.0\" y=\"0.0\" width=\"524.0040878687822\" height=\"344.0\">\n            </rect>\n          </clipPath>\n        </defs>\n        <g>\n          <path d=\"M23.81836763039919 328.3636363636364 L23.81836763039919 328.3636363636364 L29.231633000944463 315.11795642374153 L34.64489837148973 302.1953418482344 L40.058163742035006 289.595792637115 L45.47142911258027 277.31930879038316 L50.88469448312554 265.36589030803907 L56.29795985367082 253.73553719008265 L61.71122522421608 242.4282494365139 L67.12449059476135 231.44402704733284 L72.53775596530662 220.78287002253944 L77.95102133585189 210.44477836213372 L83.36428670639717 200.4297520661157 L88.77755207694244 190.73779113448535 L94.1908174474877 181.36889556724267 L99.60408281803298 172.32306536438767 L105.01734818857824 163.60030052592035 L110.43061355912351 155.20060105184072 L115.84387892966879 147.12396694214874 L121.25714430021405 139.37039819684446 L126.67040967075933 131.93989481592786 L132.0836750413046 124.83245679939893 L137.49694041184986 118.0480841472577 L142.91020578239514 111.58677685950411 L148.32347115294039 105.44853493613823 L153.7367365234857 99.63335837716002 L159.15000189403094 94.14124718256949 L164.5632672645762 88.97220135236662 L169.9765326351215 84.12622088655147 L175.38979800566676 79.60330578512395 L180.80306337621204 75.40345604808414 L186.21632874675728 71.526671675432 L191.62959411730256 67.97295266716753 L197.04285948784783 64.74229902329074 L202.4561248583931 61.83471074380162 L207.86939022893839 59.250187828700234 L213.28265559948363 56.98873027798646 L218.6959209700289 55.050338091660365 L224.10918634057418 53.435011269722 L229.52245171111946 52.1427498121713 L234.93571708166473 51.173553719008225 L240.34898245220998 50.52742299023288 L245.76224782275526 50.204357625845205 L251.17551319330053 50.204357625845205 L256.5887785638458 50.52742299023288 L262.00204393439105 51.173553719008225 L267.41530930493633 52.1427498121713 L272.8285746754816 53.435011269722 L278.2418400460269 55.050338091660365 L283.65510541657216 56.98873027798646 L289.0683707871174 59.250187828700234 L294.48163615766265 61.83471074380162 L299.8949015282079 64.74229902329074 L305.3081668987532 67.97295266716753 L310.7214322692985 71.526671675432 L316.13469763984375 75.40345604808414 L321.547963010389 79.60330578512395 L326.9612283809343 84.12622088655147 L332.3744937514796 88.97220135236662 L337.78775912202485 94.14124718256949 L343.20102449257007 99.63335837716002 L348.61428986311535 105.44853493613823 L354.0275552336606 111.58677685950411 L359.4408206042059 118.0480841472577 L364.8540859747512 124.83245679939893 L370.26735134529645 131.93989481592786 L375.6806167158417 139.37039819684446 L381.093882086387 147.12396694214874 L386.5071474569323 155.20060105184072 L391.92041282747755 163.60030052592035 L397.3336781980228 172.32306536438767 L402.74694356856804 181.36889556724267 L408.1602089391133 190.73779113448535 L413.5734743096586 200.4297520661157 L418.98673968020387 210.44477836213372 L424.40000505074914 220.78287002253944 L429.8132704212944 231.44402704733284 L435.2265357918397 242.4282494365139 L440.63980116238497 253.73553719008265 L446.05306653293025 265.36589030803907 L451.4663319034755 277.31930879038316 L456.87959727402074 289.595792637115 L462.292862644566 302.1953418482344 L467.7061280151113 315.11795642374153 L473.11939338565656 328.3636363636364 \" fill=\"none\" stroke-width=\"1.0\" stroke=\"rgb(148,74,216)\" stroke-opacity=\"1.0\">\n          </path>\n        </g>\n      </g>\n      <g transform=\"translate(42.99591213121782 0.0 ) \" clip-path=\"url(#c8Q6E4m)\" clip-bounds-jfx=\"[rect (0.0, 0.0), (524.0040878687822, 344.0)]\">\n        <defs>\n          <clipPath id=\"c8Q6E4m\">\n            <rect x=\"0.0\" y=\"0.0\" width=\"524.0040878687822\" height=\"344.0\">\n            </rect>\n          </clipPath>\n        </defs>\n        <line x1=\"0.0\" y1=\"64.2577009767092\" x2=\"524.0040878687822\" y2=\"64.2577009767092\" stroke=\"rgb(148,74,216)\" stroke-opacity=\"0.9\" fill=\"rgb(17,142,216)\" fill-opacity=\"0.9\" stroke-width=\"1.0\" stroke-dasharray=\"4.3,4.3\">\n        </line>\n      </g>\n      <g transform=\"translate(42.99591213121782 0.0 ) \" clip-path=\"url(#cAJEXcn)\" clip-bounds-jfx=\"[rect (0.0, 0.0), (524.0040878687822, 344.0)]\">\n        <defs>\n          <clipPath id=\"cAJEXcn\">\n            <rect x=\"0.0\" y=\"0.0\" width=\"524.0040878687822\" height=\"344.0\">\n            </rect>\n          </clipPath>\n        </defs>\n        <g>\n          <path d=\"M23.81836763039919 328.3636363636364 L23.81836763039919 328.3636363636364 L29.231633000944463 316.89481592787376 L34.64489837148973 305.7490608564989 L40.058163742035006 294.9263711495116 L45.47142911258027 284.4267468069121 L50.88469448312554 274.25018782870023 L56.29795985367082 264.39669421487605 L61.71122522421608 254.86626596543954 L67.12449059476135 245.6589030803907 L72.53775596530662 236.77460555972954 L77.95102133585189 228.21337340345605 L83.36428670639717 219.97520661157023 L88.77755207694244 212.06010518407214 L94.1908174474877 204.46806912096167 L99.60408281803298 197.1990984222389 L105.01734818857824 190.25319308790384 L110.43061355912351 183.63035311795642 L115.84387892966879 177.3305785123967 L121.25714430021405 171.35386927122465 L126.67040967075933 165.70022539444025 L132.0836750413046 160.36964688204358 L137.49694041184986 155.36213373403456 L142.91020578239514 150.6776859504132 L148.32347115294039 146.31630353117956 L153.7367365234857 142.27798647633358 L159.15000189403094 138.56273478587528 L164.5632672645762 135.17054845980465 L169.9765326351215 132.1014274981217 L175.38979800566676 129.35537190082644 L180.80306337621204 126.93238166791886 L186.21632874675728 124.83245679939893 L191.62959411730256 123.05559729526672 L197.04285948784783 121.60180315552216 L202.4561248583931 120.47107438016528 L207.86939022893839 119.6634109691961 L213.28265559948363 119.17881292261455 L218.6959209700289 119.01728024042072 L224.10918634057418 119.17881292261455 L229.52245171111946 119.6634109691961 L234.93571708166473 120.47107438016528 L240.34898245220998 121.60180315552216 L245.76224782275526 123.05559729526672 L251.17551319330053 124.83245679939893 L256.5887785638458 126.93238166791886 L262.00204393439105 129.35537190082644 L267.41530930493633 132.1014274981217 L272.8285746754816 135.17054845980465 L278.2418400460269 138.56273478587528 L283.65510541657216 142.27798647633358 L289.0683707871174 146.31630353117956 L294.48163615766265 150.6776859504132 L299.8949015282079 155.36213373403456 L305.3081668987532 160.36964688204358 L310.7214322692985 165.70022539444025 L316.13469763984375 171.35386927122465 L321.547963010389 177.3305785123967 L326.9612283809343 183.63035311795642 L332.3744937514796 190.25319308790384 L337.78775912202485 197.1990984222389 L343.20102449257007 204.46806912096167 L348.61428986311535 212.06010518407214 L354.0275552336606 219.97520661157023 L359.4408206042059 228.21337340345605 L364.8540859747512 236.77460555972954 L370.26735134529645 245.6589030803907 L375.6806167158417 254.86626596543954 L381.093882086387 264.39669421487605 L386.5071474569323 274.25018782870023 L391.92041282747755 284.4267468069121 L397.3336781980228 294.9263711495116 L402.74694356856804 305.7490608564989 L408.1602089391133 316.89481592787376 L413.5734743096586 328.3636363636364 \" fill=\"none\" stroke-width=\"1.0\" stroke=\"rgb(62,204,193)\" stroke-opacity=\"1.0\">\n          </path>\n        </g>\n      </g>\n      <g transform=\"translate(42.99591213121782 0.0 ) \" clip-path=\"url(#cXC3ScT)\" clip-bounds-jfx=\"[rect (0.0, 0.0), (524.0040878687822, 344.0)]\">\n        <defs>\n          <clipPath id=\"cXC3ScT\">\n            <rect x=\"0.0\" y=\"0.0\" width=\"524.0040878687822\" height=\"344.0\">\n            </rect>\n          </clipPath>\n        </defs>\n        <line x1=\"0.0\" y1=\"120.1480090157776\" x2=\"524.0040878687822\" y2=\"120.1480090157776\" stroke=\"rgb(62,204,193)\" stroke-opacity=\"0.9\" fill=\"rgb(17,142,216)\" fill-opacity=\"0.9\" stroke-width=\"1.0\" stroke-dasharray=\"4.3,4.3\">\n        </line>\n      </g>\n      <g transform=\"translate(42.99591213121782 0.0 ) \" clip-path=\"url(#cLLLchq)\" clip-bounds-jfx=\"[rect (0.0, 0.0), (524.0040878687822, 344.0)]\">\n        <defs>\n          <clipPath id=\"cLLLchq\">\n            <rect x=\"0.0\" y=\"0.0\" width=\"524.0040878687822\" height=\"344.0\">\n            </rect>\n          </clipPath>\n        </defs>\n        <g>\n          <path d=\"M23.81836763039919 328.3636363636364 L23.81836763039919 328.3636363636364 L29.231633000944463 314.3102930127724 L34.64489837148973 300.580015026296 L40.058163742035006 287.17280240420735 L45.47142911258027 274.08865514650637 L50.88469448312554 261.3275732531931 L56.29795985367082 248.88955672426746 L61.71122522421608 236.77460555972954 L67.12449059476135 224.98271975957925 L72.53775596530662 213.51389932381667 L77.95102133585189 202.36814425244177 L83.36428670639717 191.54545454545453 L88.77755207694244 181.045830202855 L94.1908174474877 170.86927122464311 L99.60408281803298 161.01577761081893 L105.01734818857824 151.48534936138242 L110.43061355912351 142.27798647633358 L115.84387892966879 133.39368895567242 L121.25714430021405 124.83245679939893 L126.67040967075933 116.59429000751314 L132.0836750413046 108.67918858001502 L137.49694041184986 101.08715251690458 L142.91020578239514 93.81818181818181 L148.32347115294039 86.87227648384672 L153.7367365234857 80.2494365138993 L159.15000189403094 73.94966190833958 L164.5632672645762 67.97295266716753 L169.9765326351215 62.31930879038316 L175.38979800566676 56.98873027798646 L180.80306337621204 51.98121712997744 L186.21632874675728 47.296769346356086 L191.62959411730256 42.935386927122465 L197.04285948784783 38.89706987227646 L202.4561248583931 35.18181818181819 L207.86939022893839 31.78963185574753 L213.28265559948363 28.720510894064603 L218.6959209700289 25.97445529676935 L224.10918634057418 23.551465063861713 L229.52245171111946 21.451540195341806 L234.93571708166473 19.674680691209574 L240.34898245220998 18.22088655146507 L245.76224782275526 17.090157776108185 L251.17551319330053 16.282494365138973 L256.5887785638458 15.797896318557434 L262.00204393439105 15.636363636363626 L267.41530930493633 15.797896318557434 L272.8285746754816 16.282494365138973 L278.2418400460269 17.090157776108185 L283.65510541657216 18.22088655146507 L289.0683707871174 19.674680691209574 L294.48163615766265 21.451540195341806 L299.8949015282079 23.551465063861713 L305.3081668987532 25.97445529676935 L310.7214322692985 28.720510894064603 L316.13469763984375 31.78963185574753 L321.547963010389 35.18181818181819 L326.9612283809343 38.89706987227646 L332.3744937514796 42.935386927122465 L337.78775912202485 47.296769346356086 L343.20102449257007 51.98121712997744 L348.61428986311535 56.98873027798646 L354.0275552336606 62.31930879038316 L359.4408206042059 67.97295266716753 L364.8540859747512 73.94966190833958 L370.26735134529645 80.2494365138993 L375.6806167158417 86.87227648384672 L381.093882086387 93.81818181818181 L386.5071474569323 101.08715251690458 L391.92041282747755 108.67918858001502 L397.3336781980228 116.59429000751314 L402.74694356856804 124.83245679939893 L408.1602089391133 133.39368895567242 L413.5734743096586 142.27798647633358 L418.98673968020387 151.48534936138242 L424.40000505074914 161.01577761081893 L429.8132704212944 170.86927122464311 L435.2265357918397 181.045830202855 L440.63980116238497 191.54545454545453 L446.05306653293025 202.36814425244177 L451.4663319034755 213.51389932381667 L456.87959727402074 224.98271975957925 L462.292862644566 236.77460555972954 L467.7061280151113 248.88955672426746 L473.11939338565656 261.3275732531931 L478.53265875620184 274.08865514650637 L483.9459241267471 287.17280240420735 L489.3591894972924 300.580015026296 L494.77245486783767 314.3102930127724 L500.18572023838294 328.3636363636364 \" fill=\"none\" stroke-width=\"1.0\" stroke=\"rgb(100,148,154)\" stroke-opacity=\"1.0\">\n          </path>\n        </g>\n      </g>\n      <g transform=\"translate(42.99591213121782 0.0 ) \" clip-path=\"url(#cd55QwV)\" clip-bounds-jfx=\"[rect (0.0, 0.0), (524.0040878687822, 344.0)]\">\n        <defs>\n          <clipPath id=\"cd55QwV\">\n            <rect x=\"0.0\" y=\"0.0\" width=\"524.0040878687822\" height=\"344.0\">\n            </rect>\n          </clipPath>\n        </defs>\n        <line x1=\"0.0\" y1=\"80.89556724267467\" x2=\"524.0040878687822\" y2=\"80.89556724267467\" stroke=\"rgb(100,148,154)\" stroke-opacity=\"0.9\" fill=\"rgb(17,142,216)\" fill-opacity=\"0.9\" stroke-width=\"1.0\" stroke-dasharray=\"4.3,4.3\">\n        </line>\n      </g>\n    </g>\n    <g transform=\"translate(14.5 182.0 ) rotate(-90.0 ) \">\n      <text class=\"axis-title-y\" y=\"0.0\" text-anchor=\"middle\">\n      distance\n      </text>\n    </g>\n    <g transform=\"translate(327.99795606560895 391.5 ) \">\n      <text class=\"axis-title-x\" y=\"0.0\" text-anchor=\"middle\">\n      time holding the button\n      </text>\n    </g>\n  </g>\n  <g id=\"dOdMvqd\">\n  </g>\n</svg>\n        <script>document.getElementById(\"99d489f9-a5b2-4bfd-aed0-5851ba668988\").style.display = \"none\";</script>",
      "application/plot+json": {
       "output_type": "lets_plot_spec",
       "output": {
        "mapping": {},
        "data": {},
        "kind": "plot",
        "scales": [
         {
          "aesthetic": "x",
          "limits": [
           null,
           null
          ]
         },
         {
          "aesthetic": "y",
          "limits": [
           null,
           null
          ]
         },
         {
          "aesthetic": "x",
          "limits": [
           null,
           null
          ]
         },
         {
          "aesthetic": "y",
          "limits": [
           null,
           null
          ]
         },
         {
          "aesthetic": "x",
          "limits": [
           null,
           null
          ]
         },
         {
          "aesthetic": "y",
          "limits": [
           null,
           null
          ]
         },
         {
          "aesthetic": "x",
          "limits": [
           null,
           null
          ]
         },
         {
          "aesthetic": "y",
          "limits": [
           null,
           null
          ]
         }
        ],
        "layers": [
         {
          "mapping": {
           "x": "time holding the button",
           "y": "distance"
          },
          "stat": "identity",
          "data": {
           "distance": [
            0.0,
            52.0,
            102.0,
            150.0,
            196.0,
            240.0,
            282.0,
            322.0,
            360.0,
            396.0,
            430.0,
            462.0,
            492.0,
            520.0,
            546.0,
            570.0,
            592.0,
            612.0,
            630.0,
            646.0,
            660.0,
            672.0,
            682.0,
            690.0,
            696.0,
            700.0,
            702.0,
            702.0,
            700.0,
            696.0,
            690.0,
            682.0,
            672.0,
            660.0,
            646.0,
            630.0,
            612.0,
            592.0,
            570.0,
            546.0,
            520.0,
            492.0,
            462.0,
            430.0,
            396.0,
            360.0,
            322.0,
            282.0,
            240.0,
            196.0,
            150.0,
            102.0,
            52.0,
            0.0
           ],
           "time holding the button": [
            0.0,
            1.0,
            2.0,
            3.0,
            4.0,
            5.0,
            6.0,
            7.0,
            8.0,
            9.0,
            10.0,
            11.0,
            12.0,
            13.0,
            14.0,
            15.0,
            16.0,
            17.0,
            18.0,
            19.0,
            20.0,
            21.0,
            22.0,
            23.0,
            24.0,
            25.0,
            26.0,
            27.0,
            28.0,
            29.0,
            30.0,
            31.0,
            32.0,
            33.0,
            34.0,
            35.0,
            36.0,
            37.0,
            38.0,
            39.0,
            40.0,
            41.0,
            42.0,
            43.0,
            44.0,
            45.0,
            46.0,
            47.0,
            48.0,
            49.0,
            50.0,
            51.0,
            52.0,
            53.0
           ]
          },
          "color": "#2FBDB4",
          "sampling": "none",
          "position": "identity",
          "geom": "line"
         },
         {
          "mapping": {},
          "stat": "identity",
          "yintercept": 333.0,
          "color": "#2FBDB4",
          "linetype": "dashed",
          "sampling": "none",
          "alpha": 0.9,
          "position": "identity",
          "geom": "hline"
         },
         {
          "mapping": {
           "x": "time holding the button",
           "y": "distance"
          },
          "stat": "identity",
          "data": {
           "distance": [
            0.0,
            82.0,
            162.0,
            240.0,
            316.0,
            390.0,
            462.0,
            532.0,
            600.0,
            666.0,
            730.0,
            792.0,
            852.0,
            910.0,
            966.0,
            1020.0,
            1072.0,
            1122.0,
            1170.0,
            1216.0,
            1260.0,
            1302.0,
            1342.0,
            1380.0,
            1416.0,
            1450.0,
            1482.0,
            1512.0,
            1540.0,
            1566.0,
            1590.0,
            1612.0,
            1632.0,
            1650.0,
            1666.0,
            1680.0,
            1692.0,
            1702.0,
            1710.0,
            1716.0,
            1720.0,
            1722.0,
            1722.0,
            1720.0,
            1716.0,
            1710.0,
            1702.0,
            1692.0,
            1680.0,
            1666.0,
            1650.0,
            1632.0,
            1612.0,
            1590.0,
            1566.0,
            1540.0,
            1512.0,
            1482.0,
            1450.0,
            1416.0,
            1380.0,
            1342.0,
            1302.0,
            1260.0,
            1216.0,
            1170.0,
            1122.0,
            1072.0,
            1020.0,
            966.0,
            910.0,
            852.0,
            792.0,
            730.0,
            666.0,
            600.0,
            532.0,
            462.0,
            390.0,
            316.0,
            240.0,
            162.0,
            82.0,
            0.0
           ],
           "time holding the button": [
            0.0,
            1.0,
            2.0,
            3.0,
            4.0,
            5.0,
            6.0,
            7.0,
            8.0,
            9.0,
            10.0,
            11.0,
            12.0,
            13.0,
            14.0,
            15.0,
            16.0,
            17.0,
            18.0,
            19.0,
            20.0,
            21.0,
            22.0,
            23.0,
            24.0,
            25.0,
            26.0,
            27.0,
            28.0,
            29.0,
            30.0,
            31.0,
            32.0,
            33.0,
            34.0,
            35.0,
            36.0,
            37.0,
            38.0,
            39.0,
            40.0,
            41.0,
            42.0,
            43.0,
            44.0,
            45.0,
            46.0,
            47.0,
            48.0,
            49.0,
            50.0,
            51.0,
            52.0,
            53.0,
            54.0,
            55.0,
            56.0,
            57.0,
            58.0,
            59.0,
            60.0,
            61.0,
            62.0,
            63.0,
            64.0,
            65.0,
            66.0,
            67.0,
            68.0,
            69.0,
            70.0,
            71.0,
            72.0,
            73.0,
            74.0,
            75.0,
            76.0,
            77.0,
            78.0,
            79.0,
            80.0,
            81.0,
            82.0,
            83.0
           ]
          },
          "color": "#944AD8",
          "sampling": "none",
          "position": "identity",
          "geom": "line"
         },
         {
          "mapping": {},
          "stat": "identity",
          "yintercept": 1635.0,
          "color": "#944AD8",
          "linetype": "dashed",
          "sampling": "none",
          "alpha": 0.9,
          "position": "identity",
          "geom": "hline"
         },
         {
          "mapping": {
           "x": "time holding the button",
           "y": "distance"
          },
          "stat": "identity",
          "data": {
           "distance": [
            0.0,
            71.0,
            140.0,
            207.0,
            272.0,
            335.0,
            396.0,
            455.0,
            512.0,
            567.0,
            620.0,
            671.0,
            720.0,
            767.0,
            812.0,
            855.0,
            896.0,
            935.0,
            972.0,
            1007.0,
            1040.0,
            1071.0,
            1100.0,
            1127.0,
            1152.0,
            1175.0,
            1196.0,
            1215.0,
            1232.0,
            1247.0,
            1260.0,
            1271.0,
            1280.0,
            1287.0,
            1292.0,
            1295.0,
            1296.0,
            1295.0,
            1292.0,
            1287.0,
            1280.0,
            1271.0,
            1260.0,
            1247.0,
            1232.0,
            1215.0,
            1196.0,
            1175.0,
            1152.0,
            1127.0,
            1100.0,
            1071.0,
            1040.0,
            1007.0,
            972.0,
            935.0,
            896.0,
            855.0,
            812.0,
            767.0,
            720.0,
            671.0,
            620.0,
            567.0,
            512.0,
            455.0,
            396.0,
            335.0,
            272.0,
            207.0,
            140.0,
            71.0,
            0.0
           ],
           "time holding the button": [
            0.0,
            1.0,
            2.0,
            3.0,
            4.0,
            5.0,
            6.0,
            7.0,
            8.0,
            9.0,
            10.0,
            11.0,
            12.0,
            13.0,
            14.0,
            15.0,
            16.0,
            17.0,
            18.0,
            19.0,
            20.0,
            21.0,
            22.0,
            23.0,
            24.0,
            25.0,
            26.0,
            27.0,
            28.0,
            29.0,
            30.0,
            31.0,
            32.0,
            33.0,
            34.0,
            35.0,
            36.0,
            37.0,
            38.0,
            39.0,
            40.0,
            41.0,
            42.0,
            43.0,
            44.0,
            45.0,
            46.0,
            47.0,
            48.0,
            49.0,
            50.0,
            51.0,
            52.0,
            53.0,
            54.0,
            55.0,
            56.0,
            57.0,
            58.0,
            59.0,
            60.0,
            61.0,
            62.0,
            63.0,
            64.0,
            65.0,
            66.0,
            67.0,
            68.0,
            69.0,
            70.0,
            71.0,
            72.0
           ]
          },
          "color": "#3ECCC1",
          "sampling": "none",
          "position": "identity",
          "geom": "line"
         },
         {
          "mapping": {},
          "stat": "identity",
          "yintercept": 1289.0,
          "color": "#3ECCC1",
          "linetype": "dashed",
          "sampling": "none",
          "alpha": 0.9,
          "position": "identity",
          "geom": "hline"
         },
         {
          "mapping": {
           "x": "time holding the button",
           "y": "distance"
          },
          "stat": "identity",
          "data": {
           "distance": [
            0.0,
            87.0,
            172.0,
            255.0,
            336.0,
            415.0,
            492.0,
            567.0,
            640.0,
            711.0,
            780.0,
            847.0,
            912.0,
            975.0,
            1036.0,
            1095.0,
            1152.0,
            1207.0,
            1260.0,
            1311.0,
            1360.0,
            1407.0,
            1452.0,
            1495.0,
            1536.0,
            1575.0,
            1612.0,
            1647.0,
            1680.0,
            1711.0,
            1740.0,
            1767.0,
            1792.0,
            1815.0,
            1836.0,
            1855.0,
            1872.0,
            1887.0,
            1900.0,
            1911.0,
            1920.0,
            1927.0,
            1932.0,
            1935.0,
            1936.0,
            1935.0,
            1932.0,
            1927.0,
            1920.0,
            1911.0,
            1900.0,
            1887.0,
            1872.0,
            1855.0,
            1836.0,
            1815.0,
            1792.0,
            1767.0,
            1740.0,
            1711.0,
            1680.0,
            1647.0,
            1612.0,
            1575.0,
            1536.0,
            1495.0,
            1452.0,
            1407.0,
            1360.0,
            1311.0,
            1260.0,
            1207.0,
            1152.0,
            1095.0,
            1036.0,
            975.0,
            912.0,
            847.0,
            780.0,
            711.0,
            640.0,
            567.0,
            492.0,
            415.0,
            336.0,
            255.0,
            172.0,
            87.0,
            0.0
           ],
           "time holding the button": [
            0.0,
            1.0,
            2.0,
            3.0,
            4.0,
            5.0,
            6.0,
            7.0,
            8.0,
            9.0,
            10.0,
            11.0,
            12.0,
            13.0,
            14.0,
            15.0,
            16.0,
            17.0,
            18.0,
            19.0,
            20.0,
            21.0,
            22.0,
            23.0,
            24.0,
            25.0,
            26.0,
            27.0,
            28.0,
            29.0,
            30.0,
            31.0,
            32.0,
            33.0,
            34.0,
            35.0,
            36.0,
            37.0,
            38.0,
            39.0,
            40.0,
            41.0,
            42.0,
            43.0,
            44.0,
            45.0,
            46.0,
            47.0,
            48.0,
            49.0,
            50.0,
            51.0,
            52.0,
            53.0,
            54.0,
            55.0,
            56.0,
            57.0,
            58.0,
            59.0,
            60.0,
            61.0,
            62.0,
            63.0,
            64.0,
            65.0,
            66.0,
            67.0,
            68.0,
            69.0,
            70.0,
            71.0,
            72.0,
            73.0,
            74.0,
            75.0,
            76.0,
            77.0,
            78.0,
            79.0,
            80.0,
            81.0,
            82.0,
            83.0,
            84.0,
            85.0,
            86.0,
            87.0,
            88.0
           ]
          },
          "color": "#64949A",
          "sampling": "none",
          "position": "identity",
          "geom": "line"
         },
         {
          "mapping": {},
          "stat": "identity",
          "yintercept": 1532.0,
          "color": "#64949A",
          "linetype": "dashed",
          "sampling": "none",
          "alpha": 0.9,
          "position": "identity",
          "geom": "hline"
         }
        ]
       },
       "apply_color_scheme": true,
       "swing_enabled": true
      }
     },
     "execution_count": 18,
     "metadata": {},
     "output_type": "execute_result"
    }
   ],
   "source": [
    "import org.jetbrains.kotlinx.dataframe.api.dataFrameOf\n",
    "import kotlin.random.Random\n",
    "\n",
    "val randomColors = List(timesToDistance.size) {\n",
    "  Color.rgb(Random.nextInt(256), Random.nextInt(256), Random.nextInt(256))\n",
    "}\n",
    "\n",
    "plot {\n",
    "  for (race in timesToDistance.withIndex()) {\n",
    "    line {\n",
    "      x(race.value.map { it.first }, \"time holding the button\")\n",
    "      y(race.value.map { it.second }, \"distance\")\n",
    "      color = randomColors[race.index] \n",
    "    }\n",
    "    hLine {\n",
    "      yIntercept.constant(races[race.index].record)\n",
    "      color = randomColors[race.index] \n",
    "      alpha = 0.9\n",
    "      type = LineType.DASHED\n",
    "    }\n",
    "  }\n",
    "}"
   ],
   "metadata": {
    "collapsed": false,
    "ExecuteTime": {
     "end_time": "2024-01-08T12:18:46.002705Z",
     "start_time": "2024-01-08T12:18:45.766345Z"
    }
   }
  },
  {
   "cell_type": "markdown",
   "source": [
    "# Counting the number of times the record is broken and multiplying them together"
   ],
   "metadata": {
    "collapsed": false
   }
  },
  {
   "cell_type": "code",
   "execution_count": 16,
   "outputs": [
    {
     "data": {
      "text/plain": "140220"
     },
     "execution_count": 16,
     "metadata": {},
     "output_type": "execute_result"
    }
   ],
   "source": [
    "races.zip(timesToDistance) { races, allTimes -> \n",
    "  allTimes.count { it.second > races.record }\n",
    "}.reduce { acc, num -> acc * num }"
   ],
   "metadata": {
    "collapsed": false,
    "ExecuteTime": {
     "end_time": "2024-01-08T12:18:11.687937Z",
     "start_time": "2024-01-08T12:18:11.495588Z"
    }
   }
  }
 ],
 "metadata": {
  "kernelspec": {
   "display_name": "Kotlin",
   "language": "kotlin",
   "name": "kotlin"
  },
  "language_info": {
   "name": "kotlin",
   "version": "1.9.0",
   "mimetype": "text/x-kotlin",
   "file_extension": ".kt",
   "pygments_lexer": "kotlin",
   "codemirror_mode": "text/x-kotlin",
   "nbconvert_exporter": ""
  },
  "ktnbPluginMetadata": {
   "projectDependencies": [
    "kotlin-template-advent.main"
   ]
  }
 },
 "nbformat": 4,
 "nbformat_minor": 0
}
