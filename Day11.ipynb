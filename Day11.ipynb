{
 "cells": [
  {
   "cell_type": "code",
   "execution_count": 168,
   "metadata": {
    "collapsed": true,
    "ExecuteTime": {
     "end_time": "2023-12-11T09:26:46.243830Z",
     "start_time": "2023-12-11T09:26:46.148335Z"
    }
   },
   "outputs": [],
   "source": [
    "@file:DependsOn(\"org.jetbrains.kotlinx:kotlinx-coroutines-core-jvm:1.4.3\")\n",
    "\n",
    "import kotlin.io.path.Path\n",
    "import kotlin.io.path.readLines\n",
    "\n",
    "val input = Path(\"src/day_11_test.txt\").readLines().map { it.split(\"\").filter { it.isNotBlank() } }"
   ]
  },
  {
   "cell_type": "code",
   "execution_count": 169,
   "outputs": [],
   "source": [
    "var expendedInput = buildList { \n",
    "  input.forEach { row ->\n",
    "    add(row)\n",
    "    if (row.all { it == \".\" }) {\n",
    "      add(row)\n",
    "    }\n",
    "   }\n",
    " }"
   ],
   "metadata": {
    "collapsed": false,
    "ExecuteTime": {
     "end_time": "2023-12-11T09:26:46.301645Z",
     "start_time": "2023-12-11T09:26:46.230533Z"
    }
   }
  },
  {
   "cell_type": "code",
   "execution_count": 170,
   "outputs": [],
   "source": [
    "(0..expendedInput.first().size).forEach { index ->\n",
    "  expendedInput.elementAt(index)\n",
    " }"
   ],
   "metadata": {
    "collapsed": false,
    "ExecuteTime": {
     "end_time": "2023-12-11T09:26:46.368496Z",
     "start_time": "2023-12-11T09:26:46.275337Z"
    }
   }
  },
  {
   "cell_type": "code",
   "execution_count": 171,
   "outputs": [],
   "source": [
    "fun transposeMap(map: List<List<String>>): List<List<String>> {\n",
    "    val transposed = mutableListOf<MutableList<String>>()\n",
    "\n",
    "    // Assuming all rows in the map have the same length\n",
    "    val numRows = map.size\n",
    "    val numCols = map[0].size\n",
    "\n",
    "    for (col in 0 until numCols) {\n",
    "        val column = mutableListOf<String>()\n",
    "        for (row in 0 until numRows) {\n",
    "            column.add(map[row][col])\n",
    "        }\n",
    "        transposed.add(column)\n",
    "    }\n",
    "\n",
    "    return transposed\n",
    "}"
   ],
   "metadata": {
    "collapsed": false,
    "ExecuteTime": {
     "end_time": "2023-12-11T09:26:46.404708Z",
     "start_time": "2023-12-11T09:26:46.326761Z"
    }
   }
  },
  {
   "cell_type": "code",
   "execution_count": 172,
   "outputs": [],
   "source": [
    "val tansposedMap = transposeMap(expendedInput)"
   ],
   "metadata": {
    "collapsed": false,
    "ExecuteTime": {
     "end_time": "2023-12-11T09:26:46.434907Z",
     "start_time": "2023-12-11T09:26:46.385302Z"
    }
   }
  },
  {
   "cell_type": "code",
   "execution_count": 173,
   "outputs": [],
   "source": [
    "val newExpendedInput = buildList { \n",
    "  tansposedMap.forEach { row ->\n",
    "    add(row)\n",
    "    if (row.all { it == \".\" }) {\n",
    "      add(row)\n",
    "    }\n",
    "   }\n",
    " }"
   ],
   "metadata": {
    "collapsed": false,
    "ExecuteTime": {
     "end_time": "2023-12-11T09:26:46.467981Z",
     "start_time": "2023-12-11T09:26:46.422995Z"
    }
   }
  },
  {
   "cell_type": "code",
   "execution_count": 174,
   "outputs": [],
   "source": [
    "expendedInput = transposeMap(newExpendedInput)"
   ],
   "metadata": {
    "collapsed": false,
    "ExecuteTime": {
     "end_time": "2023-12-11T09:26:46.495607Z",
     "start_time": "2023-12-11T09:26:46.458092Z"
    }
   }
  },
  {
   "cell_type": "code",
   "execution_count": 175,
   "outputs": [
    {
     "data": {
      "text/plain": "[[., ., ., ., #, ., ., ., ., ., ., ., .], [., ., ., ., ., ., ., ., ., #, ., ., .], [#, ., ., ., ., ., ., ., ., ., ., ., .], [., ., ., ., ., ., ., ., ., ., ., ., .], [., ., ., ., ., ., ., ., ., ., ., ., .], [., ., ., ., ., ., ., ., #, ., ., ., .], [., #, ., ., ., ., ., ., ., ., ., ., .], [., ., ., ., ., ., ., ., ., ., ., ., #], [., ., ., ., ., ., ., ., ., ., ., ., .], [., ., ., ., ., ., ., ., ., ., ., ., .], [., ., ., ., ., ., ., ., ., #, ., ., .], [#, ., ., ., ., #, ., ., ., ., ., ., .]]"
     },
     "execution_count": 175,
     "metadata": {},
     "output_type": "execute_result"
    }
   ],
   "source": [
    "expendedInput"
   ],
   "metadata": {
    "collapsed": false,
    "ExecuteTime": {
     "end_time": "2023-12-11T09:26:46.521225Z",
     "start_time": "2023-12-11T09:26:46.479378Z"
    }
   }
  },
  {
   "cell_type": "code",
   "execution_count": 176,
   "outputs": [],
   "source": [
    "val galaxiesCoordinates = expendedInput.mapIndexed { y, row ->\n",
    "  row.mapIndexed { x, column ->\n",
    "    if (column == \"#\") {\n",
    "      x to y\n",
    "    } else {\n",
    "      null\n",
    "    }\n",
    "  }.filterNotNull()\n",
    "}.flatten()"
   ],
   "metadata": {
    "collapsed": false,
    "ExecuteTime": {
     "end_time": "2023-12-11T09:26:46.556334Z",
     "start_time": "2023-12-11T09:26:46.497172Z"
    }
   }
  },
  {
   "cell_type": "code",
   "execution_count": 177,
   "outputs": [
    {
     "data": {
      "text/plain": "[(4, 0), (9, 1), (0, 2), (8, 5), (1, 6), (12, 7), (9, 10), (0, 11), (5, 11)]"
     },
     "execution_count": 177,
     "metadata": {},
     "output_type": "execute_result"
    }
   ],
   "source": [
    "galaxiesCoordinates"
   ],
   "metadata": {
    "collapsed": false,
    "ExecuteTime": {
     "end_time": "2023-12-11T09:26:46.581524Z",
     "start_time": "2023-12-11T09:26:46.537436Z"
    }
   }
  },
  {
   "cell_type": "code",
   "execution_count": 178,
   "outputs": [],
   "source": [
    "val paths = galaxiesCoordinates.map { coordinate -> \n",
    "  galaxiesCoordinates.map { secodCoordinate ->\n",
    "    abs(secodCoordinate.first - coordinate.first) to abs(secodCoordinate.second - coordinate.second)\n",
    "  }\n",
    "}"
   ],
   "metadata": {
    "collapsed": false,
    "ExecuteTime": {
     "end_time": "2023-12-11T09:26:46.609541Z",
     "start_time": "2023-12-11T09:26:46.556427Z"
    }
   }
  },
  {
   "cell_type": "code",
   "execution_count": 179,
   "outputs": [
    {
     "data": {
      "text/plain": "[[(0, 0), (5, 1), (4, 2), (4, 5), (3, 6), (8, 7), (5, 10), (4, 11), (1, 11)], [(5, 1), (0, 0), (9, 1), (1, 4), (8, 5), (3, 6), (0, 9), (9, 10), (4, 10)], [(4, 2), (9, 1), (0, 0), (8, 3), (1, 4), (12, 5), (9, 8), (0, 9), (5, 9)], [(4, 5), (1, 4), (8, 3), (0, 0), (7, 1), (4, 2), (1, 5), (8, 6), (3, 6)], [(3, 6), (8, 5), (1, 4), (7, 1), (0, 0), (11, 1), (8, 4), (1, 5), (4, 5)], [(8, 7), (3, 6), (12, 5), (4, 2), (11, 1), (0, 0), (3, 3), (12, 4), (7, 4)], [(5, 10), (0, 9), (9, 8), (1, 5), (8, 4), (3, 3), (0, 0), (9, 1), (4, 1)], [(4, 11), (9, 10), (0, 9), (8, 6), (1, 5), (12, 4), (9, 1), (0, 0), (5, 0)], [(1, 11), (4, 10), (5, 9), (3, 6), (4, 5), (7, 4), (4, 1), (5, 0), (0, 0)]]"
     },
     "execution_count": 179,
     "metadata": {},
     "output_type": "execute_result"
    }
   ],
   "source": [
    "paths"
   ],
   "metadata": {
    "collapsed": false,
    "ExecuteTime": {
     "end_time": "2023-12-11T09:26:46.666963Z",
     "start_time": "2023-12-11T09:26:46.595677Z"
    }
   }
  },
  {
   "cell_type": "code",
   "execution_count": 180,
   "outputs": [],
   "source": [
    "val steps = paths.map { \n",
    "  it.map { it.first + it.second }\n",
    " }"
   ],
   "metadata": {
    "collapsed": false,
    "ExecuteTime": {
     "end_time": "2023-12-11T09:26:46.668983Z",
     "start_time": "2023-12-11T09:26:46.610782Z"
    }
   }
  },
  {
   "cell_type": "code",
   "execution_count": 181,
   "outputs": [
    {
     "data": {
      "text/plain": "[[0, 6, 6, 9, 9, 15, 15, 15, 12], [6, 0, 10, 5, 13, 9, 9, 19, 14], [6, 10, 0, 11, 5, 17, 17, 9, 14], [9, 5, 11, 0, 8, 6, 6, 14, 9], [9, 13, 5, 8, 0, 12, 12, 6, 9], [15, 9, 17, 6, 12, 0, 6, 16, 11], [15, 9, 17, 6, 12, 6, 0, 10, 5], [15, 19, 9, 14, 6, 16, 10, 0, 5], [12, 14, 14, 9, 9, 11, 5, 5, 0]]"
     },
     "execution_count": 181,
     "metadata": {},
     "output_type": "execute_result"
    }
   ],
   "source": [
    "steps"
   ],
   "metadata": {
    "collapsed": false,
    "ExecuteTime": {
     "end_time": "2023-12-11T09:26:46.696785Z",
     "start_time": "2023-12-11T09:26:46.645345Z"
    }
   }
  },
  {
   "cell_type": "code",
   "execution_count": 182,
   "outputs": [
    {
     "data": {
      "text/plain": "374"
     },
     "execution_count": 182,
     "metadata": {},
     "output_type": "execute_result"
    }
   ],
   "source": [
    "paths.withIndex().map { (index, path) ->\n",
    "  path.drop(index + 1)\n",
    "}.filter { it.isNotEmpty() }.map { it.map { it.first + it.second }.sum() }.sum()"
   ],
   "metadata": {
    "collapsed": false,
    "ExecuteTime": {
     "end_time": "2023-12-11T09:26:46.749791Z",
     "start_time": "2023-12-11T09:26:46.660402Z"
    }
   }
  },
  {
   "cell_type": "code",
   "execution_count": 183,
   "outputs": [],
   "source": [],
   "metadata": {
    "collapsed": false,
    "ExecuteTime": {
     "end_time": "2023-12-11T09:26:46.751113Z",
     "start_time": "2023-12-11T09:26:46.707481Z"
    }
   }
  }
 ],
 "metadata": {
  "kernelspec": {
   "display_name": "Kotlin",
   "language": "kotlin",
   "name": "kotlin"
  },
  "language_info": {
   "name": "kotlin",
   "version": "1.9.0",
   "mimetype": "text/x-kotlin",
   "file_extension": ".kt",
   "pygments_lexer": "kotlin",
   "codemirror_mode": "text/x-kotlin",
   "nbconvert_exporter": ""
  }
 },
 "nbformat": 4,
 "nbformat_minor": 0
}
